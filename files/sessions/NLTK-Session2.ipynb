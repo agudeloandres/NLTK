{
 "cells": [
  {
   "cell_type": "code",
   "execution_count": 3,
   "metadata": {
    "collapsed": false
   },
   "outputs": [],
   "source": [
    "import os \n",
    "from nltk import word_tokenize\n",
    "from nltk.text import  Text"
   ]
  },
  {
   "cell_type": "code",
   "execution_count": 4,
   "metadata": {
    "collapsed": true
   },
   "outputs": [],
   "source": [
    "files=os.listdir('UMA_Fraser_Radio_Talks/')"
   ]
  },
  {
   "cell_type": "code",
   "execution_count": 5,
   "metadata": {
    "collapsed": false
   },
   "outputs": [
    {
     "data": {
      "text/plain": [
       "['UDS2013680-447-full.txt',\n",
       " 'UDS2013680-610-full.txt',\n",
       " 'UDS2013680-385-full.txt',\n",
       " 'UDS2013680-68-full.txt',\n",
       " 'UDS2013680-251-full.txt',\n",
       " 'UDS2013680-499-full.txt',\n",
       " 'UDS2013680-383-full.txt',\n",
       " 'UDS2013680-249-full.txt',\n",
       " 'UDS2013680-170-full.txt',\n",
       " 'UDS2013680-424-full.txt',\n",
       " 'UDS2013680-557-full.txt',\n",
       " 'UDS2013680-765-full.txt',\n",
       " 'UDS2013680-122-full.txt',\n",
       " 'UDS2013680-612-full.txt',\n",
       " 'UDS2013680-95-full.txt',\n",
       " 'UDS2013680-513-full.txt',\n",
       " 'UDS2013680-63-full.txt',\n",
       " 'UDS2013680-110-full.txt',\n",
       " 'UDS2013680-609-full.txt',\n",
       " 'UDS2013680-702-full.txt',\n",
       " 'UDS2013680-47-full.txt',\n",
       " 'UDS2013680-505-full.txt',\n",
       " 'UDS2013680-103-full.txt',\n",
       " 'UDS2013680-527-full.txt',\n",
       " 'UDS2013680-641-full.txt',\n",
       " 'UDS2013680-300-full.txt',\n",
       " 'UDS2013680-507-full.txt',\n",
       " 'UDS2013680-262-full.txt',\n",
       " 'UDS2013680-108-full.txt',\n",
       " 'UDS2013680-226-full.txt',\n",
       " 'UDS2013680-711-full.txt',\n",
       " 'UDS2013680-735-full.txt',\n",
       " 'UDS2013680-96-full.txt',\n",
       " 'UDS2013680-767-full.txt',\n",
       " 'UDS2013680-404-full.txt',\n",
       " 'UDS2013680-56-full.txt',\n",
       " 'UDS2013680-123-full.txt',\n",
       " 'UDS2013680-11-full.txt',\n",
       " 'UDS2013680-474-full.txt',\n",
       " 'UDS2013680-296-full.txt',\n",
       " 'UDS2013680-169-full.txt',\n",
       " 'UDS2013680-97-full.txt',\n",
       " 'UDS2013680-346-full.txt',\n",
       " 'UDS2013680-359-full.txt',\n",
       " 'UDS2013680-618-full.txt',\n",
       " 'UDS2013680-647-full.txt',\n",
       " 'UDS2013680-380-full.txt',\n",
       " 'UDS2013680-45-full.txt',\n",
       " 'UDS2013680-194-full.txt',\n",
       " 'UDS2013680-495-full.txt',\n",
       " 'UDS2013680-406-full.txt',\n",
       " 'UDS2013680-780-full.txt',\n",
       " 'UDS2013680-588-full.txt',\n",
       " 'UDS2013680-723-full.txt',\n",
       " 'UDS2013680-48-full.txt',\n",
       " 'UDS2013680-517-full.txt',\n",
       " 'UDS2013680-599-full.txt',\n",
       " 'UDS2013680-255-full.txt',\n",
       " 'UDS2013680-763-full.txt',\n",
       " 'UDS2013680-468-full.txt',\n",
       " 'UDS2013680-36-full.txt',\n",
       " 'UDS2013680-19-full.txt',\n",
       " 'UDS2013680-628-full.txt',\n",
       " 'UDS2013680-683-full.txt',\n",
       " 'UDS2013680-736-full.txt',\n",
       " 'UDS2013680-657-full.txt',\n",
       " 'UDS2013680-391-full.txt',\n",
       " 'UDS2013680-215-full.txt',\n",
       " 'UDS2013680-422-full.txt',\n",
       " 'UDS2013680-504-full.txt',\n",
       " 'UDS2013680-381-full.txt',\n",
       " 'UDS2013680-725-full.txt',\n",
       " 'UDS2013680-777-full.txt',\n",
       " 'UDS2013680-51-full.txt',\n",
       " 'UDS2013680-494-full.txt',\n",
       " 'UDS2013680-298-full.txt',\n",
       " 'UDS2013680-658-full.txt',\n",
       " 'UDS2013680-679-full.txt',\n",
       " 'UDS2013680-565-full.txt',\n",
       " 'UDS2013680-320-full.txt',\n",
       " 'UDS2013680-553-full.txt',\n",
       " 'UDS2013680-414-full.txt',\n",
       " 'UDS2013680-192-full.txt',\n",
       " 'UDS2013680-316-full.txt',\n",
       " 'UDS2013680-204-full.txt',\n",
       " 'UDS2013680-560-full.txt',\n",
       " 'UDS2013680-354-full.txt',\n",
       " 'UDS2013680-454-full.txt',\n",
       " 'UDS2013680-708-full.txt',\n",
       " 'UDS2013680-253-full.txt',\n",
       " 'UDS2013680-278-full.txt',\n",
       " 'UDS2013680-444-full.txt',\n",
       " 'UDS2013680-435-full.txt',\n",
       " 'UDS2013680-167-full.txt',\n",
       " 'UDS2013680-589-full.txt',\n",
       " 'UDS2013680-563-full.txt',\n",
       " 'UDS2013680-608-full.txt',\n",
       " 'UDS2013680-77-full.txt',\n",
       " 'UDS2013680-131-full.txt',\n",
       " 'UDS2013680-370-full.txt',\n",
       " 'UDS2013680-433-full.txt',\n",
       " 'UDS2013680-539-full.txt',\n",
       " 'UDS2013680-38-full.txt',\n",
       " 'UDS2013680-189-full.txt',\n",
       " 'UDS2013680-112-full.txt',\n",
       " 'UDS2013680-35-full.txt',\n",
       " 'UDS2013680-15-full.txt',\n",
       " 'UDS2013680-759-full.txt',\n",
       " 'UDS2013680-267-full.txt',\n",
       " 'UDS2013680-173-full.txt',\n",
       " 'UDS2013680-721-full.txt',\n",
       " 'UDS2013680-633-full.txt',\n",
       " 'UDS2013680-480-full.txt',\n",
       " 'UDS2013680-345-full.txt',\n",
       " 'UDS2013680-243-full.txt',\n",
       " 'UDS2013680-7-full.txt',\n",
       " 'UDS2013680-314-full.txt',\n",
       " 'UDS2013680-595-full.txt',\n",
       " 'UDS2013680-425-full.txt',\n",
       " 'UDS2013680-455-full.txt',\n",
       " 'UDS2013680-242-full.txt',\n",
       " 'UDS2013680-477-full.txt',\n",
       " 'UDS2013680-531-full.txt',\n",
       " 'UDS2013680-452-full.txt',\n",
       " 'UDS2013680-436-full.txt',\n",
       " 'UDS2013680-5-full.txt',\n",
       " 'UDS2013680-94-full.txt',\n",
       " 'UDS2013680-698-full.txt',\n",
       " 'UDS2013680-729-full.txt',\n",
       " 'UDS2013680-675-full.txt',\n",
       " 'UDS2013680-182-full.txt',\n",
       " 'UDS2013680-413-full.txt',\n",
       " 'UDS2013680-332-full.txt',\n",
       " 'UDS2013680-30-full.txt',\n",
       " 'UDS2013680-772-full.txt',\n",
       " 'UDS2013680-341-full.txt',\n",
       " 'UDS2013680-1-full.txt',\n",
       " 'UDS2013680-699-full.txt',\n",
       " 'UDS2013680-247-full.txt',\n",
       " 'UDS2013680-136-full.txt',\n",
       " 'UDS2013680-292-full.txt',\n",
       " 'UDS2013680-428-full.txt',\n",
       " 'UDS2013680-600-full.txt',\n",
       " 'UDS2013680-689-full.txt',\n",
       " 'UDS2013680-146-full.txt',\n",
       " 'UDS2013680-712-full.txt',\n",
       " 'UDS2013680-532-full.txt',\n",
       " 'UDS2013680-593-full.txt',\n",
       " 'UDS2013680-453-full.txt',\n",
       " 'UDS2013680-154-full.txt',\n",
       " 'UDS2013680-198-full.txt',\n",
       " 'UDS2013680-148-full.txt',\n",
       " 'UDS2013680-714-full.txt',\n",
       " 'UDS2013680-528-full.txt',\n",
       " 'UDS2013680-438-full.txt',\n",
       " 'UDS2013680-261-full.txt',\n",
       " 'UDS2013680-446-full.txt',\n",
       " 'UDS2013680-275-full.txt',\n",
       " 'UDS2013680-181-full.txt',\n",
       " 'UDS2013680-473-full.txt',\n",
       " 'UDS2013680-732-full.txt',\n",
       " 'UDS2013680-762-full.txt',\n",
       " 'UDS2013680-730-full.txt',\n",
       " 'UDS2013680-92-full.txt',\n",
       " 'UDS2013680-650-full.txt',\n",
       " 'UDS2013680-117-full.txt',\n",
       " 'UDS2013680-113-full.txt',\n",
       " 'UDS2013680-303-full.txt',\n",
       " 'UDS2013680-322-full.txt',\n",
       " 'UDS2013680-764-full.txt',\n",
       " 'UDS2013680-511-full.txt',\n",
       " 'UDS2013680-695-full.txt',\n",
       " 'UDS2013680-229-full.txt',\n",
       " 'UDS2013680-523-full.txt',\n",
       " 'UDS2013680-500-full.txt',\n",
       " 'UDS2013680-634-full.txt',\n",
       " 'UDS2013680-705-full.txt',\n",
       " 'UDS2013680-200-full.txt',\n",
       " 'UDS2013680-195-full.txt',\n",
       " 'UDS2013680-490-full.txt',\n",
       " 'UDS2013680-738-full.txt',\n",
       " 'UDS2013680-358-full.txt',\n",
       " 'UDS2013680-286-full.txt',\n",
       " 'UDS2013680-297-full.txt',\n",
       " 'UDS2013680-367-full.txt',\n",
       " 'UDS2013680-620-full.txt',\n",
       " 'UDS2013680-549-full.txt',\n",
       " 'UDS2013680-548-full.txt',\n",
       " 'UDS2013680-493-full.txt',\n",
       " 'UDS2013680-564-full.txt',\n",
       " 'UDS2013680-753-full.txt',\n",
       " 'UDS2013680-678-full.txt',\n",
       " 'UDS2013680-420-full.txt',\n",
       " 'UDS2013680-375-full.txt',\n",
       " 'UDS2013680-728-full.txt',\n",
       " 'UDS2013680-402-full.txt',\n",
       " 'UDS2013680-581-full.txt',\n",
       " 'UDS2013680-489-full.txt',\n",
       " 'UDS2013680-237-full.txt',\n",
       " 'UDS2013680-559-full.txt',\n",
       " 'UDS2013680-302-full.txt',\n",
       " 'UDS2013680-306-full.txt',\n",
       " 'UDS2013680-368-full.txt',\n",
       " 'UDS2013680-451-full.txt',\n",
       " 'UDS2013680-222-full.txt',\n",
       " 'UDS2013680-132-full.txt',\n",
       " 'UDS2013680-540-full.txt',\n",
       " 'UDS2013680-62-full.txt',\n",
       " 'UDS2013680-24-full.txt',\n",
       " 'UDS2013680-518-full.txt',\n",
       " 'UDS2013680-57-full.txt',\n",
       " 'UDS2013680-654-full.txt',\n",
       " 'UDS2013680-426-full.txt',\n",
       " 'UDS2013680-547-full.txt',\n",
       " 'UDS2013680-142-full.txt',\n",
       " 'UDS2013680-514-full.txt',\n",
       " 'UDS2013680-52-full.txt',\n",
       " 'UDS2013680-78-full.txt',\n",
       " 'UDS2013680-31-full.txt',\n",
       " 'UDS2013680-781-full.txt',\n",
       " 'UDS2013680-159-full.txt',\n",
       " 'UDS2013680-348-full.txt',\n",
       " 'UDS2013680-323-full.txt',\n",
       " 'UDS2013680-238-full.txt',\n",
       " 'UDS2013680-260-full.txt',\n",
       " 'UDS2013680-771-full.txt',\n",
       " 'UDS2013680-76-full.txt',\n",
       " 'UDS2013680-417-full.txt',\n",
       " 'UDS2013680-84-full.txt',\n",
       " 'UDS2013680-282-full.txt',\n",
       " 'UDS2013680-615-full.txt',\n",
       " 'UDS2013680-139-full.txt',\n",
       " 'UDS2013680-373-full.txt',\n",
       " 'UDS2013680-619-full.txt',\n",
       " 'UDS2013680-248-full.txt',\n",
       " 'UDS2013680-760-full.txt',\n",
       " 'UDS2013680-403-full.txt',\n",
       " 'UDS2013680-419-full.txt',\n",
       " 'UDS2013680-179-full.txt',\n",
       " 'UDS2013680-16-full.txt',\n",
       " 'UDS2013680-211-full.txt',\n",
       " 'UDS2013680-462-full.txt',\n",
       " 'UDS2013680-340-full.txt',\n",
       " 'UDS2013680-437-full.txt',\n",
       " 'UDS2013680-551-full.txt',\n",
       " 'UDS2013680-519-full.txt',\n",
       " 'UDS2013680-506-full.txt',\n",
       " 'UDS2013680-585-full.txt',\n",
       " 'UDS2013680-423-full.txt',\n",
       " 'UDS2013680-28-full.txt',\n",
       " 'UDS2013680-285-full.txt',\n",
       " 'UDS2013680-350-full.txt',\n",
       " 'UDS2013680-529-full.txt',\n",
       " 'UDS2013680-556-full.txt',\n",
       " 'UDS2013680-590-full.txt',\n",
       " 'UDS2013680-44-full.txt',\n",
       " 'UDS2013680-512-full.txt',\n",
       " 'UDS2013680-196-full.txt',\n",
       " 'UDS2013680-294-full.txt',\n",
       " 'UDS2013680-748-full.txt',\n",
       " 'UDS2013680-187-full.txt',\n",
       " 'UDS2013680-448-full.txt',\n",
       " 'UDS2013680-421-full.txt',\n",
       " 'UDS2013680-502-full.txt',\n",
       " 'UDS2013680-384-full.txt',\n",
       " 'UDS2013680-145-full.txt',\n",
       " 'UDS2013680-621-full.txt',\n",
       " 'UDS2013680-672-full.txt',\n",
       " 'UDS2013680-83-full.txt',\n",
       " 'UDS2013680-331-full.txt',\n",
       " 'UDS2013680-59-full.txt',\n",
       " 'UDS2013680-719-full.txt',\n",
       " 'UDS2013680-669-full.txt',\n",
       " 'UDS2013680-206-full.txt',\n",
       " 'UDS2013680-129-full.txt',\n",
       " 'UDS2013680-674-full.txt',\n",
       " 'UDS2013680-378-full.txt',\n",
       " 'UDS2013680-124-full.txt',\n",
       " 'UDS2013680-572-full.txt',\n",
       " 'UDS2013680-133-full.txt',\n",
       " 'UDS2013680-627-full.txt',\n",
       " 'UDS2013680-570-full.txt',\n",
       " 'UDS2013680-567-full.txt',\n",
       " 'UDS2013680-191-full.txt',\n",
       " 'UDS2013680-217-full.txt',\n",
       " 'UDS2013680-488-full.txt',\n",
       " 'UDS2013680-652-full.txt',\n",
       " 'UDS2013680-418-full.txt',\n",
       " 'UDS2013680-756-full.txt',\n",
       " 'UDS2013680-268-full.txt',\n",
       " 'UDS2013680-427-full.txt',\n",
       " 'UDS2013680-521-full.txt',\n",
       " 'UDS2013680-685-full.txt',\n",
       " 'UDS2013680-487-full.txt',\n",
       " 'UDS2013680-301-full.txt',\n",
       " 'UDS2013680-741-full.txt',\n",
       " 'UDS2013680-613-full.txt',\n",
       " 'UDS2013680-61-full.txt',\n",
       " 'UDS2013680-265-full.txt',\n",
       " 'UDS2013680-190-full.txt',\n",
       " 'UDS2013680-775-full.txt',\n",
       " 'UDS2013680-356-full.txt',\n",
       " 'UDS2013680-562-full.txt',\n",
       " 'UDS2013680-111-full.txt',\n",
       " 'UDS2013680-524-full.txt',\n",
       " 'UDS2013680-127-full.txt',\n",
       " 'UDS2013680-13-full.txt',\n",
       " 'UDS2013680-555-full.txt',\n",
       " 'UDS2013680-23-full.txt',\n",
       " 'UDS2013680-151-full.txt',\n",
       " 'UDS2013680-535-full.txt',\n",
       " 'UDS2013680-538-full.txt',\n",
       " 'UDS2013680-364-full.txt',\n",
       " 'UDS2013680-457-full.txt',\n",
       " 'UDS2013680-636-full.txt',\n",
       " 'UDS2013680-315-full.txt',\n",
       " 'UDS2013680-319-full.txt',\n",
       " 'UDS2013680-32-full.txt',\n",
       " 'UDS2013680-121-full.txt',\n",
       " 'UDS2013680-769-full.txt',\n",
       " 'UDS2013680-355-full.txt',\n",
       " 'UDS2013680-321-full.txt',\n",
       " 'UDS2013680-463-full.txt',\n",
       " 'UDS2013680-766-full.txt',\n",
       " 'UDS2013680-604-full.txt',\n",
       " 'UDS2013680-174-full.txt',\n",
       " 'UDS2013680-233-full.txt',\n",
       " 'UDS2013680-216-full.txt',\n",
       " 'UDS2013680-656-full.txt',\n",
       " 'UDS2013680-312-full.txt',\n",
       " 'UDS2013680-726-full.txt',\n",
       " 'UDS2013680-144-full.txt',\n",
       " 'UDS2013680-221-full.txt',\n",
       " 'UDS2013680-429-full.txt',\n",
       " 'UDS2013680-287-full.txt',\n",
       " 'UDS2013680-682-full.txt',\n",
       " 'UDS2013680-574-full.txt',\n",
       " 'UDS2013680-240-full.txt',\n",
       " 'UDS2013680-670-full.txt',\n",
       " 'UDS2013680-534-full.txt',\n",
       " 'UDS2013680-530-full.txt',\n",
       " 'UDS2013680-501-full.txt',\n",
       " 'UDS2013680-731-full.txt',\n",
       " 'UDS2013680-395-full.txt',\n",
       " 'UDS2013680-648-full.txt',\n",
       " 'UDS2013680-270-full.txt',\n",
       " 'UDS2013680-509-full.txt',\n",
       " 'UDS2013680-60-full.txt',\n",
       " 'UDS2013680-107-full.txt',\n",
       " 'UDS2013680-264-full.txt',\n",
       " 'UDS2013680-697-full.txt',\n",
       " 'UDS2013680-140-full.txt',\n",
       " 'UDS2013680-631-full.txt',\n",
       " 'UDS2013680-639-full.txt',\n",
       " 'UDS2013680-734-full.txt',\n",
       " 'UDS2013680-464-full.txt',\n",
       " 'UDS2013680-168-full.txt',\n",
       " 'UDS2013680-716-full.txt',\n",
       " 'UDS2013680-706-full.txt',\n",
       " 'UDS2013680-445-full.txt',\n",
       " 'UDS2013680-465-full.txt',\n",
       " 'UDS2013680-584-full.txt',\n",
       " 'UDS2013680-667-full.txt',\n",
       " 'UDS2013680-138-full.txt',\n",
       " 'UDS2013680-259-full.txt',\n",
       " 'UDS2013680-67-full.txt',\n",
       " 'UDS2013680-304-full.txt',\n",
       " 'UDS2013680-205-full.txt',\n",
       " 'UDS2013680-186-full.txt',\n",
       " 'UDS2013680-42-full.txt',\n",
       " 'UDS2013680-594-full.txt',\n",
       " 'UDS2013680-258-full.txt',\n",
       " 'UDS2013680-616-full.txt',\n",
       " 'UDS2013680-338-full.txt',\n",
       " 'UDS2013680-245-full.txt',\n",
       " 'UDS2013680-508-full.txt',\n",
       " 'UDS2013680-696-full.txt',\n",
       " 'UDS2013680-569-full.txt',\n",
       " 'UDS2013680-561-full.txt',\n",
       " 'UDS2013680-54-full.txt',\n",
       " 'UDS2013680-497-full.txt',\n",
       " 'UDS2013680-701-full.txt',\n",
       " 'UDS2013680-479-full.txt',\n",
       " 'UDS2013680-392-full.txt',\n",
       " 'UDS2013680-482-full.txt',\n",
       " 'UDS2013680-81-full.txt',\n",
       " 'UDS2013680-271-full.txt',\n",
       " 'UDS2013680-33-full.txt',\n",
       " 'UDS2013680-476-full.txt',\n",
       " 'UDS2013680-459-full.txt',\n",
       " 'UDS2013680-410-full.txt',\n",
       " 'UDS2013680-671-full.txt',\n",
       " 'UDS2013680-607-full.txt',\n",
       " 'UDS2013680-18-full.txt',\n",
       " 'UDS2013680-754-full.txt',\n",
       " 'UDS2013680-533-full.txt',\n",
       " 'UDS2013680-515-full.txt',\n",
       " 'UDS2013680-750-full.txt',\n",
       " 'UDS2013680-209-full.txt',\n",
       " 'UDS2013680-568-full.txt',\n",
       " 'UDS2013680-739-full.txt',\n",
       " 'UDS2013680-352-full.txt',\n",
       " 'UDS2013680-688-full.txt',\n",
       " 'UDS2013680-655-full.txt',\n",
       " 'UDS2013680-158-full.txt',\n",
       " 'UDS2013680-91-full.txt',\n",
       " 'UDS2013680-625-full.txt',\n",
       " 'UDS2013680-703-full.txt',\n",
       " 'UDS2013680-272-full.txt',\n",
       " 'UDS2013680-546-full.txt',\n",
       " 'UDS2013680-746-full.txt',\n",
       " 'UDS2013680-388-full.txt',\n",
       " 'UDS2013680-461-full.txt',\n",
       " 'UDS2013680-347-full.txt',\n",
       " 'UDS2013680-208-full.txt',\n",
       " 'UDS2013680-274-full.txt',\n",
       " 'UDS2013680-469-full.txt',\n",
       " 'UDS2013680-710-full.txt',\n",
       " 'UDS2013680-399-full.txt',\n",
       " 'UDS2013680-617-full.txt',\n",
       " 'UDS2013680-79-full.txt',\n",
       " 'UDS2013680-58-full.txt',\n",
       " 'UDS2013680-691-full.txt',\n",
       " 'UDS2013680-17-full.txt',\n",
       " 'UDS2013680-214-full.txt',\n",
       " 'UDS2013680-583-full.txt',\n",
       " 'UDS2013680-156-full.txt',\n",
       " 'UDS2013680-606-full.txt',\n",
       " 'UDS2013680-72-full.txt',\n",
       " 'UDS2013680-411-full.txt',\n",
       " 'UDS2013680-232-full.txt',\n",
       " 'UDS2013680-542-full.txt',\n",
       " 'UDS2013680-203-full.txt',\n",
       " 'UDS2013680-709-full.txt',\n",
       " 'UDS2013680-571-full.txt',\n",
       " 'UDS2013680-673-full.txt',\n",
       " 'UDS2013680-273-full.txt',\n",
       " 'UDS2013680-768-full.txt',\n",
       " 'UDS2013680-55-full.txt',\n",
       " 'UDS2013680-758-full.txt',\n",
       " 'UDS2013680-686-full.txt',\n",
       " 'UDS2013680-516-full.txt',\n",
       " 'UDS2013680-486-full.txt',\n",
       " 'UDS2013680-582-full.txt',\n",
       " 'UDS2013680-328-full.txt',\n",
       " 'UDS2013680-329-full.txt',\n",
       " 'UDS2013680-598-full.txt',\n",
       " 'UDS2013680-597-full.txt',\n",
       " 'UDS2013680-394-full.txt',\n",
       " 'UDS2013680-659-full.txt',\n",
       " 'UDS2013680-630-full.txt',\n",
       " 'UDS2013680-774-full.txt',\n",
       " 'UDS2013680-88-full.txt',\n",
       " 'UDS2013680-722-full.txt',\n",
       " 'UDS2013680-623-full.txt',\n",
       " 'UDS2013680-342-full.txt',\n",
       " 'UDS2013680-37-full.txt',\n",
       " 'UDS2013680-291-full.txt',\n",
       " 'UDS2013680-86-full.txt',\n",
       " 'UDS2013680-22-full.txt',\n",
       " 'UDS2013680-441-full.txt',\n",
       " 'UDS2013680-325-full.txt',\n",
       " 'UDS2013680-460-full.txt',\n",
       " 'UDS2013680-106-full.txt',\n",
       " 'UDS2013680-6-full.txt',\n",
       " 'UDS2013680-295-full.txt',\n",
       " 'UDS2013680-330-full.txt',\n",
       " 'UDS2013680-299-full.txt',\n",
       " 'UDS2013680-592-full.txt',\n",
       " 'UDS2013680-21-full.txt',\n",
       " 'UDS2013680-210-full.txt',\n",
       " 'UDS2013680-147-full.txt',\n",
       " 'UDS2013680-351-full.txt',\n",
       " 'UDS2013680-250-full.txt',\n",
       " 'UDS2013680-212-full.txt',\n",
       " 'UDS2013680-25-full.txt',\n",
       " 'UDS2013680-605-full.txt',\n",
       " 'UDS2013680-276-full.txt',\n",
       " 'UDS2013680-782-full.txt',\n",
       " 'UDS2013680-651-full.txt',\n",
       " 'UDS2013680-773-full.txt',\n",
       " 'UDS2013680-213-full.txt',\n",
       " 'UDS2013680-440-full.txt',\n",
       " 'UDS2013680-281-full.txt',\n",
       " 'UDS2013680-635-full.txt',\n",
       " 'UDS2013680-704-full.txt',\n",
       " 'UDS2013680-776-full.txt',\n",
       " 'UDS2013680-626-full.txt',\n",
       " 'UDS2013680-218-full.txt',\n",
       " 'UDS2013680-415-full.txt',\n",
       " 'UDS2013680-183-full.txt',\n",
       " 'UDS2013680-290-full.txt',\n",
       " 'UDS2013680-573-full.txt',\n",
       " 'UDS2013680-483-full.txt',\n",
       " 'UDS2013680-587-full.txt',\n",
       " 'UDS2013680-752-full.txt',\n",
       " 'UDS2013680-228-full.txt',\n",
       " 'UDS2013680-105-full.txt',\n",
       " 'UDS2013680-244-full.txt',\n",
       " 'UDS2013680-9-full.txt',\n",
       " 'UDS2013680-69-full.txt',\n",
       " 'UDS2013680-393-full.txt',\n",
       " 'UDS2013680-661-full.txt',\n",
       " 'UDS2013680-526-full.txt',\n",
       " 'UDS2013680-409-full.txt',\n",
       " 'UDS2013680-376-full.txt',\n",
       " 'UDS2013680-266-full.txt',\n",
       " 'UDS2013680-202-full.txt',\n",
       " 'UDS2013680-717-full.txt',\n",
       " 'UDS2013680-496-full.txt',\n",
       " 'UDS2013680-390-full.txt',\n",
       " 'UDS2013680-160-full.txt',\n",
       " 'UDS2013680-401-full.txt',\n",
       " 'UDS2013680-624-full.txt',\n",
       " 'UDS2013680-71-full.txt',\n",
       " 'UDS2013680-566-full.txt',\n",
       " 'UDS2013680-65-full.txt',\n",
       " 'UDS2013680-742-full.txt',\n",
       " 'UDS2013680-503-full.txt',\n",
       " 'UDS2013680-622-full.txt',\n",
       " 'UDS2013680-188-full.txt',\n",
       " 'UDS2013680-492-full.txt',\n",
       " 'UDS2013680-12-full.txt',\n",
       " 'UDS2013680-681-full.txt',\n",
       " 'UDS2013680-254-full.txt',\n",
       " 'UDS2013680-2-full.txt',\n",
       " 'UDS2013680-668-full.txt',\n",
       " 'UDS2013680-577-full.txt',\n",
       " 'UDS2013680-398-full.txt',\n",
       " 'UDS2013680-663-full.txt',\n",
       " 'UDS2013680-27-full.txt',\n",
       " 'UDS2013680-337-full.txt',\n",
       " 'UDS2013680-134-full.txt',\n",
       " 'UDS2013680-283-full.txt',\n",
       " 'UDS2013680-343-full.txt',\n",
       " 'UDS2013680-207-full.txt',\n",
       " 'UDS2013680-601-full.txt',\n",
       " 'UDS2013680-231-full.txt',\n",
       " 'UDS2013680-449-full.txt',\n",
       " 'UDS2013680-744-full.txt',\n",
       " 'UDS2013680-640-full.txt',\n",
       " 'UDS2013680-185-full.txt',\n",
       " 'UDS2013680-360-full.txt',\n",
       " 'UDS2013680-161-full.txt',\n",
       " 'UDS2013680-665-full.txt',\n",
       " 'UDS2013680-100-full.txt',\n",
       " 'UDS2013680-256-full.txt',\n",
       " 'UDS2013680-137-full.txt',\n",
       " 'UDS2013680-510-full.txt',\n",
       " 'UDS2013680-361-full.txt',\n",
       " 'UDS2013680-239-full.txt',\n",
       " 'UDS2013680-485-full.txt',\n",
       " 'UDS2013680-109-full.txt',\n",
       " 'UDS2013680-596-full.txt',\n",
       " 'UDS2013680-172-full.txt',\n",
       " 'UDS2013680-475-full.txt',\n",
       " 'UDS2013680-537-full.txt',\n",
       " 'UDS2013680-637-full.txt',\n",
       " 'UDS2013680-522-full.txt',\n",
       " 'UDS2013680-389-full.txt',\n",
       " 'UDS2013680-660-full.txt',\n",
       " 'UDS2013680-611-full.txt',\n",
       " 'UDS2013680-740-full.txt',\n",
       " 'UDS2013680-466-full.txt',\n",
       " 'UDS2013680-14-full.txt',\n",
       " 'UDS2013680-235-full.txt',\n",
       " 'UDS2013680-90-full.txt',\n",
       " 'UDS2013680-141-full.txt',\n",
       " 'UDS2013680-236-full.txt',\n",
       " 'UDS2013680-525-full.txt',\n",
       " 'UDS2013680-369-full.txt',\n",
       " 'UDS2013680-653-full.txt',\n",
       " 'UDS2013680-558-full.txt',\n",
       " 'UDS2013680-743-full.txt',\n",
       " 'UDS2013680-458-full.txt',\n",
       " 'UDS2013680-761-full.txt',\n",
       " 'UDS2013680-456-full.txt',\n",
       " 'UDS2013680-484-full.txt',\n",
       " 'UDS2013680-718-full.txt',\n",
       " 'UDS2013680-311-full.txt',\n",
       " 'UDS2013680-349-full.txt',\n",
       " 'UDS2013680-379-full.txt',\n",
       " 'UDS2013680-576-full.txt',\n",
       " 'UDS2013680-362-full.txt',\n",
       " 'UDS2013680-157-full.txt',\n",
       " 'UDS2013680-87-full.txt',\n",
       " 'UDS2013680-432-full.txt',\n",
       " 'UDS2013680-591-full.txt',\n",
       " 'UDS2013680-43-full.txt',\n",
       " 'UDS2013680-335-full.txt',\n",
       " 'UDS2013680-614-full.txt',\n",
       " 'UDS2013680-372-full.txt',\n",
       " 'UDS2013680-64-full.txt',\n",
       " 'UDS2013680-416-full.txt',\n",
       " 'UDS2013680-727-full.txt',\n",
       " 'UDS2013680-779-full.txt',\n",
       " 'UDS2013680-408-full.txt',\n",
       " 'UDS2013680-223-full.txt',\n",
       " 'UDS2013680-241-full.txt',\n",
       " 'UDS2013680-180-full.txt',\n",
       " 'UDS2013680-171-full.txt',\n",
       " 'UDS2013680-467-full.txt',\n",
       " 'UDS2013680-693-full.txt',\n",
       " 'UDS2013680-757-full.txt',\n",
       " 'UDS2013680-481-full.txt',\n",
       " 'UDS2013680-317-full.txt',\n",
       " 'UDS2013680-126-full.txt',\n",
       " 'UDS2013680-770-full.txt',\n",
       " 'UDS2013680-220-full.txt',\n",
       " 'UDS2013680-700-full.txt',\n",
       " 'UDS2013680-687-full.txt',\n",
       " 'UDS2013680-412-full.txt',\n",
       " 'UDS2013680-724-full.txt',\n",
       " 'UDS2013680-666-full.txt',\n",
       " 'UDS2013680-193-full.txt',\n",
       " 'UDS2013680-336-full.txt',\n",
       " 'UDS2013680-339-full.txt',\n",
       " 'UDS2013680-344-full.txt',\n",
       " 'UDS2013680-41-full.txt',\n",
       " 'UDS2013680-434-full.txt',\n",
       " 'UDS2013680-116-full.txt',\n",
       " 'UDS2013680-324-full.txt',\n",
       " 'UDS2013680-8-full.txt',\n",
       " 'UDS2013680-662-full.txt',\n",
       " 'UDS2013680-125-full.txt',\n",
       " 'UDS2013680-498-full.txt',\n",
       " 'UDS2013680-443-full.txt',\n",
       " 'UDS2013680-430-full.txt',\n",
       " 'UDS2013680-165-full.txt',\n",
       " 'UDS2013680-578-full.txt',\n",
       " 'UDS2013680-128-full.txt',\n",
       " 'UDS2013680-677-full.txt',\n",
       " 'UDS2013680-638-full.txt',\n",
       " 'UDS2013680-305-full.txt',\n",
       " 'UDS2013680-720-full.txt',\n",
       " 'UDS2013680-491-full.txt',\n",
       " 'UDS2013680-279-full.txt',\n",
       " 'UDS2013680-120-full.txt',\n",
       " 'UDS2013680-99-full.txt',\n",
       " 'UDS2013680-645-full.txt',\n",
       " 'UDS2013680-102-full.txt',\n",
       " 'UDS2013680-163-full.txt',\n",
       " 'UDS2013680-643-full.txt',\n",
       " 'UDS2013680-363-full.txt',\n",
       " 'UDS2013680-73-full.txt',\n",
       " 'UDS2013680-707-full.txt',\n",
       " 'UDS2013680-66-full.txt',\n",
       " 'UDS2013680-101-full.txt',\n",
       " 'UDS2013680-632-full.txt',\n",
       " 'UDS2013680-284-full.txt',\n",
       " 'UDS2013680-269-full.txt',\n",
       " 'UDS2013680-3-full.txt',\n",
       " 'UDS2013680-53-full.txt',\n",
       " 'UDS2013680-543-full.txt',\n",
       " 'UDS2013680-737-full.txt',\n",
       " 'UDS2013680-602-full.txt',\n",
       " 'UDS2013680-629-full.txt',\n",
       " 'UDS2013680-470-full.txt',\n",
       " 'UDS2013680-377-full.txt',\n",
       " 'UDS2013680-405-full.txt',\n",
       " 'UDS2013680-4-full.txt',\n",
       " 'UDS2013680-199-full.txt',\n",
       " 'UDS2013680-387-full.txt',\n",
       " 'UDS2013680-75-full.txt',\n",
       " 'UDS2013680-478-full.txt',\n",
       " 'UDS2013680-580-full.txt',\n",
       " 'UDS2013680-252-full.txt',\n",
       " 'UDS2013680-310-full.txt',\n",
       " 'UDS2013680-318-full.txt',\n",
       " 'UDS2013680-115-full.txt',\n",
       " 'UDS2013680-119-full.txt',\n",
       " 'UDS2013680-197-full.txt',\n",
       " 'UDS2013680-46-full.txt',\n",
       " 'UDS2013680-118-full.txt',\n",
       " 'UDS2013680-230-full.txt',\n",
       " 'UDS2013680-439-full.txt',\n",
       " 'UDS2013680-89-full.txt',\n",
       " 'UDS2013680-135-full.txt',\n",
       " 'UDS2013680-644-full.txt',\n",
       " 'UDS2013680-34-full.txt',\n",
       " 'UDS2013680-176-full.txt',\n",
       " 'UDS2013680-152-full.txt',\n",
       " 'UDS2013680-646-full.txt',\n",
       " 'UDS2013680-85-full.txt',\n",
       " 'UDS2013680-471-full.txt',\n",
       " 'UDS2013680-407-full.txt',\n",
       " 'UDS2013680-29-full.txt',\n",
       " 'UDS2013680-39-full.txt',\n",
       " 'UDS2013680-80-full.txt',\n",
       " 'UDS2013680-733-full.txt',\n",
       " 'UDS2013680-225-full.txt',\n",
       " 'UDS2013680-575-full.txt',\n",
       " 'UDS2013680-177-full.txt',\n",
       " 'UDS2013680-309-full.txt',\n",
       " 'UDS2013680-745-full.txt',\n",
       " 'UDS2013680-680-full.txt',\n",
       " 'UDS2013680-603-full.txt',\n",
       " 'UDS2013680-586-full.txt',\n",
       " 'UDS2013680-520-full.txt',\n",
       " 'UDS2013680-450-full.txt',\n",
       " 'UDS2013680-150-full.txt',\n",
       " 'UDS2013680-649-full.txt',\n",
       " 'UDS2013680-554-full.txt',\n",
       " 'UDS2013680-536-full.txt',\n",
       " 'UDS2013680-326-full.txt',\n",
       " 'UDS2013680-26-full.txt',\n",
       " 'UDS2013680-155-full.txt',\n",
       " 'UDS2013680-442-full.txt',\n",
       " 'UDS2013680-234-full.txt',\n",
       " 'UDS2013680-472-full.txt',\n",
       " 'UDS2013680-74-full.txt',\n",
       " 'UDS2013680-227-full.txt',\n",
       " 'UDS2013680-277-full.txt',\n",
       " 'UDS2013680-431-full.txt',\n",
       " 'UDS2013680-20-full.txt',\n",
       " 'UDS2013680-694-full.txt',\n",
       " 'UDS2013680-49-full.txt',\n",
       " 'UDS2013680-544-full.txt',\n",
       " 'UDS2013680-684-full.txt',\n",
       " 'UDS2013680-371-full.txt',\n",
       " 'UDS2013680-676-full.txt',\n",
       " 'UDS2013680-184-full.txt',\n",
       " 'UDS2013680-219-full.txt',\n",
       " 'UDS2013680-664-full.txt',\n",
       " 'UDS2013680-755-full.txt',\n",
       " 'UDS2013680-713-full.txt',\n",
       " 'UDS2013680-692-full.txt',\n",
       " 'UDS2013680-224-full.txt',\n",
       " 'UDS2013680-162-full.txt',\n",
       " 'UDS2013680-246-full.txt',\n",
       " 'UDS2013680-747-full.txt',\n",
       " 'UDS2013680-550-full.txt',\n",
       " 'UDS2013680-280-full.txt',\n",
       " 'UDS2013680-289-full.txt',\n",
       " 'UDS2013680-201-full.txt',\n",
       " 'UDS2013680-164-full.txt',\n",
       " 'UDS2013680-308-full.txt',\n",
       " 'UDS2013680-114-full.txt',\n",
       " 'UDS2013680-166-full.txt',\n",
       " 'UDS2013680-715-full.txt',\n",
       " 'UDS2013680-396-full.txt',\n",
       " 'UDS2013680-50-full.txt',\n",
       " 'UDS2013680-397-full.txt',\n",
       " 'UDS2013680-642-full.txt',\n",
       " 'UDS2013680-374-full.txt',\n",
       " 'UDS2013680-178-full.txt',\n",
       " 'UDS2013680-353-full.txt',\n",
       " 'UDS2013680-327-full.txt',\n",
       " 'UDS2013680-98-full.txt',\n",
       " 'UDS2013680-40-full.txt',\n",
       " 'UDS2013680-545-full.txt',\n",
       " 'UDS2013680-400-full.txt',\n",
       " 'UDS2013680-70-full.txt',\n",
       " 'UDS2013680-82-full.txt',\n",
       " 'UDS2013680-541-full.txt',\n",
       " 'UDS2013680-552-full.txt',\n",
       " 'UDS2013680-382-full.txt',\n",
       " 'UDS2013680-104-full.txt',\n",
       " 'UDS2013680-288-full.txt',\n",
       " 'UDS2013680-263-full.txt',\n",
       " 'UDS2013680-579-full.txt',\n",
       " 'UDS2013680-130-full.txt',\n",
       " 'UDS2013680-313-full.txt',\n",
       " 'UDS2013680-778-full.txt',\n",
       " 'UDS2013680-93-full.txt',\n",
       " 'UDS2013680-690-full.txt',\n",
       " 'UDS2013680-175-full.txt',\n",
       " 'UDS2013680-751-full.txt',\n",
       " 'UDS2013680-10-full.txt',\n",
       " 'UDS2013680-293-full.txt',\n",
       " 'UDS2013680-307-full.txt',\n",
       " 'UDS2013680-257-full.txt',\n",
       " 'UDS2013680-153-full.txt',\n",
       " 'UDS2013680-357-full.txt']"
      ]
     },
     "execution_count": 5,
     "metadata": {},
     "output_type": "execute_result"
    }
   ],
   "source": [
    "files"
   ]
  },
  {
   "cell_type": "code",
   "execution_count": 6,
   "metadata": {
    "collapsed": false
   },
   "outputs": [
    {
     "name": "stdout",
     "output_type": "stream",
     "text": [
      "['UDS2013680-447-full.txt', 'UDS2013680-610-full.txt', 'UDS2013680-385-full.txt', 'UDS2013680-68-full.txt', 'UDS2013680-251-full.txt', 'UDS2013680-499-full.txt', 'UDS2013680-383-full.txt', 'UDS2013680-249-full.txt', 'UDS2013680-170-full.txt', 'UDS2013680-424-full.txt', 'UDS2013680-557-full.txt', 'UDS2013680-765-full.txt', 'UDS2013680-122-full.txt', 'UDS2013680-612-full.txt', 'UDS2013680-95-full.txt', 'UDS2013680-513-full.txt', 'UDS2013680-63-full.txt', 'UDS2013680-110-full.txt', 'UDS2013680-609-full.txt', 'UDS2013680-702-full.txt', 'UDS2013680-47-full.txt', 'UDS2013680-505-full.txt', 'UDS2013680-103-full.txt', 'UDS2013680-527-full.txt', 'UDS2013680-641-full.txt', 'UDS2013680-300-full.txt', 'UDS2013680-507-full.txt', 'UDS2013680-262-full.txt', 'UDS2013680-108-full.txt', 'UDS2013680-226-full.txt', 'UDS2013680-711-full.txt', 'UDS2013680-735-full.txt', 'UDS2013680-96-full.txt', 'UDS2013680-767-full.txt', 'UDS2013680-404-full.txt', 'UDS2013680-56-full.txt', 'UDS2013680-123-full.txt', 'UDS2013680-11-full.txt', 'UDS2013680-474-full.txt', 'UDS2013680-296-full.txt', 'UDS2013680-169-full.txt', 'UDS2013680-97-full.txt', 'UDS2013680-346-full.txt', 'UDS2013680-359-full.txt', 'UDS2013680-618-full.txt', 'UDS2013680-647-full.txt', 'UDS2013680-380-full.txt', 'UDS2013680-45-full.txt', 'UDS2013680-194-full.txt', 'UDS2013680-495-full.txt', 'UDS2013680-406-full.txt', 'UDS2013680-780-full.txt', 'UDS2013680-588-full.txt', 'UDS2013680-723-full.txt', 'UDS2013680-48-full.txt', 'UDS2013680-517-full.txt', 'UDS2013680-599-full.txt', 'UDS2013680-255-full.txt', 'UDS2013680-763-full.txt', 'UDS2013680-468-full.txt', 'UDS2013680-36-full.txt', 'UDS2013680-19-full.txt', 'UDS2013680-628-full.txt', 'UDS2013680-683-full.txt', 'UDS2013680-736-full.txt', 'UDS2013680-657-full.txt', 'UDS2013680-391-full.txt', 'UDS2013680-215-full.txt', 'UDS2013680-422-full.txt', 'UDS2013680-504-full.txt', 'UDS2013680-381-full.txt', 'UDS2013680-725-full.txt', 'UDS2013680-777-full.txt', 'UDS2013680-51-full.txt', 'UDS2013680-494-full.txt', 'UDS2013680-298-full.txt', 'UDS2013680-658-full.txt', 'UDS2013680-679-full.txt', 'UDS2013680-565-full.txt', 'UDS2013680-320-full.txt', 'UDS2013680-553-full.txt', 'UDS2013680-414-full.txt', 'UDS2013680-192-full.txt', 'UDS2013680-316-full.txt', 'UDS2013680-204-full.txt', 'UDS2013680-560-full.txt', 'UDS2013680-354-full.txt', 'UDS2013680-454-full.txt', 'UDS2013680-708-full.txt', 'UDS2013680-253-full.txt', 'UDS2013680-278-full.txt', 'UDS2013680-444-full.txt', 'UDS2013680-435-full.txt', 'UDS2013680-167-full.txt', 'UDS2013680-589-full.txt', 'UDS2013680-563-full.txt', 'UDS2013680-608-full.txt', 'UDS2013680-77-full.txt', 'UDS2013680-131-full.txt', 'UDS2013680-370-full.txt', 'UDS2013680-433-full.txt', 'UDS2013680-539-full.txt', 'UDS2013680-38-full.txt', 'UDS2013680-189-full.txt', 'UDS2013680-112-full.txt', 'UDS2013680-35-full.txt', 'UDS2013680-15-full.txt', 'UDS2013680-759-full.txt', 'UDS2013680-267-full.txt', 'UDS2013680-173-full.txt', 'UDS2013680-721-full.txt', 'UDS2013680-633-full.txt', 'UDS2013680-480-full.txt', 'UDS2013680-345-full.txt', 'UDS2013680-243-full.txt', 'UDS2013680-7-full.txt', 'UDS2013680-314-full.txt', 'UDS2013680-595-full.txt', 'UDS2013680-425-full.txt', 'UDS2013680-455-full.txt', 'UDS2013680-242-full.txt', 'UDS2013680-477-full.txt', 'UDS2013680-531-full.txt', 'UDS2013680-452-full.txt', 'UDS2013680-436-full.txt', 'UDS2013680-5-full.txt', 'UDS2013680-94-full.txt', 'UDS2013680-698-full.txt', 'UDS2013680-729-full.txt', 'UDS2013680-675-full.txt', 'UDS2013680-182-full.txt', 'UDS2013680-413-full.txt', 'UDS2013680-332-full.txt', 'UDS2013680-30-full.txt', 'UDS2013680-772-full.txt', 'UDS2013680-341-full.txt', 'UDS2013680-1-full.txt', 'UDS2013680-699-full.txt', 'UDS2013680-247-full.txt', 'UDS2013680-136-full.txt', 'UDS2013680-292-full.txt', 'UDS2013680-428-full.txt', 'UDS2013680-600-full.txt', 'UDS2013680-689-full.txt', 'UDS2013680-146-full.txt', 'UDS2013680-712-full.txt', 'UDS2013680-532-full.txt', 'UDS2013680-593-full.txt', 'UDS2013680-453-full.txt', 'UDS2013680-154-full.txt', 'UDS2013680-198-full.txt', 'UDS2013680-148-full.txt', 'UDS2013680-714-full.txt', 'UDS2013680-528-full.txt', 'UDS2013680-438-full.txt', 'UDS2013680-261-full.txt', 'UDS2013680-446-full.txt', 'UDS2013680-275-full.txt', 'UDS2013680-181-full.txt', 'UDS2013680-473-full.txt', 'UDS2013680-732-full.txt', 'UDS2013680-762-full.txt', 'UDS2013680-730-full.txt', 'UDS2013680-92-full.txt', 'UDS2013680-650-full.txt', 'UDS2013680-117-full.txt', 'UDS2013680-113-full.txt', 'UDS2013680-303-full.txt', 'UDS2013680-322-full.txt', 'UDS2013680-764-full.txt', 'UDS2013680-511-full.txt', 'UDS2013680-695-full.txt', 'UDS2013680-229-full.txt', 'UDS2013680-523-full.txt', 'UDS2013680-500-full.txt', 'UDS2013680-634-full.txt', 'UDS2013680-705-full.txt', 'UDS2013680-200-full.txt', 'UDS2013680-195-full.txt', 'UDS2013680-490-full.txt', 'UDS2013680-738-full.txt', 'UDS2013680-358-full.txt', 'UDS2013680-286-full.txt', 'UDS2013680-297-full.txt', 'UDS2013680-367-full.txt', 'UDS2013680-620-full.txt', 'UDS2013680-549-full.txt', 'UDS2013680-548-full.txt', 'UDS2013680-493-full.txt', 'UDS2013680-564-full.txt', 'UDS2013680-753-full.txt', 'UDS2013680-678-full.txt', 'UDS2013680-420-full.txt', 'UDS2013680-375-full.txt', 'UDS2013680-728-full.txt', 'UDS2013680-402-full.txt', 'UDS2013680-581-full.txt', 'UDS2013680-489-full.txt', 'UDS2013680-237-full.txt', 'UDS2013680-559-full.txt', 'UDS2013680-302-full.txt', 'UDS2013680-306-full.txt', 'UDS2013680-368-full.txt', 'UDS2013680-451-full.txt', 'UDS2013680-222-full.txt', 'UDS2013680-132-full.txt', 'UDS2013680-540-full.txt', 'UDS2013680-62-full.txt', 'UDS2013680-24-full.txt', 'UDS2013680-518-full.txt', 'UDS2013680-57-full.txt', 'UDS2013680-654-full.txt', 'UDS2013680-426-full.txt', 'UDS2013680-547-full.txt', 'UDS2013680-142-full.txt', 'UDS2013680-514-full.txt', 'UDS2013680-52-full.txt', 'UDS2013680-78-full.txt', 'UDS2013680-31-full.txt', 'UDS2013680-781-full.txt', 'UDS2013680-159-full.txt', 'UDS2013680-348-full.txt', 'UDS2013680-323-full.txt', 'UDS2013680-238-full.txt', 'UDS2013680-260-full.txt', 'UDS2013680-771-full.txt', 'UDS2013680-76-full.txt', 'UDS2013680-417-full.txt', 'UDS2013680-84-full.txt', 'UDS2013680-282-full.txt', 'UDS2013680-615-full.txt', 'UDS2013680-139-full.txt', 'UDS2013680-373-full.txt', 'UDS2013680-619-full.txt', 'UDS2013680-248-full.txt', 'UDS2013680-760-full.txt', 'UDS2013680-403-full.txt', 'UDS2013680-419-full.txt', 'UDS2013680-179-full.txt', 'UDS2013680-16-full.txt', 'UDS2013680-211-full.txt', 'UDS2013680-462-full.txt', 'UDS2013680-340-full.txt', 'UDS2013680-437-full.txt', 'UDS2013680-551-full.txt', 'UDS2013680-519-full.txt', 'UDS2013680-506-full.txt', 'UDS2013680-585-full.txt', 'UDS2013680-423-full.txt', 'UDS2013680-28-full.txt', 'UDS2013680-285-full.txt', 'UDS2013680-350-full.txt', 'UDS2013680-529-full.txt', 'UDS2013680-556-full.txt', 'UDS2013680-590-full.txt', 'UDS2013680-44-full.txt', 'UDS2013680-512-full.txt', 'UDS2013680-196-full.txt', 'UDS2013680-294-full.txt', 'UDS2013680-748-full.txt', 'UDS2013680-187-full.txt', 'UDS2013680-448-full.txt', 'UDS2013680-421-full.txt', 'UDS2013680-502-full.txt', 'UDS2013680-384-full.txt', 'UDS2013680-145-full.txt', 'UDS2013680-621-full.txt', 'UDS2013680-672-full.txt', 'UDS2013680-83-full.txt', 'UDS2013680-331-full.txt', 'UDS2013680-59-full.txt', 'UDS2013680-719-full.txt', 'UDS2013680-669-full.txt', 'UDS2013680-206-full.txt', 'UDS2013680-129-full.txt', 'UDS2013680-674-full.txt', 'UDS2013680-378-full.txt', 'UDS2013680-124-full.txt', 'UDS2013680-572-full.txt', 'UDS2013680-133-full.txt', 'UDS2013680-627-full.txt', 'UDS2013680-570-full.txt', 'UDS2013680-567-full.txt', 'UDS2013680-191-full.txt', 'UDS2013680-217-full.txt', 'UDS2013680-488-full.txt', 'UDS2013680-652-full.txt', 'UDS2013680-418-full.txt', 'UDS2013680-756-full.txt', 'UDS2013680-268-full.txt', 'UDS2013680-427-full.txt', 'UDS2013680-521-full.txt', 'UDS2013680-685-full.txt', 'UDS2013680-487-full.txt', 'UDS2013680-301-full.txt', 'UDS2013680-741-full.txt', 'UDS2013680-613-full.txt', 'UDS2013680-61-full.txt', 'UDS2013680-265-full.txt', 'UDS2013680-190-full.txt', 'UDS2013680-775-full.txt', 'UDS2013680-356-full.txt', 'UDS2013680-562-full.txt', 'UDS2013680-111-full.txt', 'UDS2013680-524-full.txt', 'UDS2013680-127-full.txt', 'UDS2013680-13-full.txt', 'UDS2013680-555-full.txt', 'UDS2013680-23-full.txt', 'UDS2013680-151-full.txt', 'UDS2013680-535-full.txt', 'UDS2013680-538-full.txt', 'UDS2013680-364-full.txt', 'UDS2013680-457-full.txt', 'UDS2013680-636-full.txt', 'UDS2013680-315-full.txt', 'UDS2013680-319-full.txt', 'UDS2013680-32-full.txt', 'UDS2013680-121-full.txt', 'UDS2013680-769-full.txt', 'UDS2013680-355-full.txt', 'UDS2013680-321-full.txt', 'UDS2013680-463-full.txt', 'UDS2013680-766-full.txt', 'UDS2013680-604-full.txt', 'UDS2013680-174-full.txt', 'UDS2013680-233-full.txt', 'UDS2013680-216-full.txt', 'UDS2013680-656-full.txt', 'UDS2013680-312-full.txt', 'UDS2013680-726-full.txt', 'UDS2013680-144-full.txt', 'UDS2013680-221-full.txt', 'UDS2013680-429-full.txt', 'UDS2013680-287-full.txt', 'UDS2013680-682-full.txt', 'UDS2013680-574-full.txt', 'UDS2013680-240-full.txt', 'UDS2013680-670-full.txt', 'UDS2013680-534-full.txt', 'UDS2013680-530-full.txt', 'UDS2013680-501-full.txt', 'UDS2013680-731-full.txt', 'UDS2013680-395-full.txt', 'UDS2013680-648-full.txt', 'UDS2013680-270-full.txt', 'UDS2013680-509-full.txt', 'UDS2013680-60-full.txt', 'UDS2013680-107-full.txt', 'UDS2013680-264-full.txt', 'UDS2013680-697-full.txt', 'UDS2013680-140-full.txt', 'UDS2013680-631-full.txt', 'UDS2013680-639-full.txt', 'UDS2013680-734-full.txt', 'UDS2013680-464-full.txt', 'UDS2013680-168-full.txt', 'UDS2013680-716-full.txt', 'UDS2013680-706-full.txt', 'UDS2013680-445-full.txt', 'UDS2013680-465-full.txt', 'UDS2013680-584-full.txt', 'UDS2013680-667-full.txt', 'UDS2013680-138-full.txt', 'UDS2013680-259-full.txt', 'UDS2013680-67-full.txt', 'UDS2013680-304-full.txt', 'UDS2013680-205-full.txt', 'UDS2013680-186-full.txt', 'UDS2013680-42-full.txt', 'UDS2013680-594-full.txt', 'UDS2013680-258-full.txt', 'UDS2013680-616-full.txt', 'UDS2013680-338-full.txt', 'UDS2013680-245-full.txt', 'UDS2013680-508-full.txt', 'UDS2013680-696-full.txt', 'UDS2013680-569-full.txt', 'UDS2013680-561-full.txt', 'UDS2013680-54-full.txt', 'UDS2013680-497-full.txt', 'UDS2013680-701-full.txt', 'UDS2013680-479-full.txt', 'UDS2013680-392-full.txt', 'UDS2013680-482-full.txt', 'UDS2013680-81-full.txt', 'UDS2013680-271-full.txt', 'UDS2013680-33-full.txt', 'UDS2013680-476-full.txt', 'UDS2013680-459-full.txt', 'UDS2013680-410-full.txt', 'UDS2013680-671-full.txt', 'UDS2013680-607-full.txt', 'UDS2013680-18-full.txt', 'UDS2013680-754-full.txt', 'UDS2013680-533-full.txt', 'UDS2013680-515-full.txt', 'UDS2013680-750-full.txt', 'UDS2013680-209-full.txt', 'UDS2013680-568-full.txt', 'UDS2013680-739-full.txt', 'UDS2013680-352-full.txt', 'UDS2013680-688-full.txt', 'UDS2013680-655-full.txt', 'UDS2013680-158-full.txt', 'UDS2013680-91-full.txt', 'UDS2013680-625-full.txt', 'UDS2013680-703-full.txt', 'UDS2013680-272-full.txt', 'UDS2013680-546-full.txt', 'UDS2013680-746-full.txt', 'UDS2013680-388-full.txt', 'UDS2013680-461-full.txt', 'UDS2013680-347-full.txt', 'UDS2013680-208-full.txt', 'UDS2013680-274-full.txt', 'UDS2013680-469-full.txt', 'UDS2013680-710-full.txt', 'UDS2013680-399-full.txt', 'UDS2013680-617-full.txt', 'UDS2013680-79-full.txt', 'UDS2013680-58-full.txt', 'UDS2013680-691-full.txt', 'UDS2013680-17-full.txt', 'UDS2013680-214-full.txt', 'UDS2013680-583-full.txt', 'UDS2013680-156-full.txt', 'UDS2013680-606-full.txt', 'UDS2013680-72-full.txt', 'UDS2013680-411-full.txt', 'UDS2013680-232-full.txt', 'UDS2013680-542-full.txt', 'UDS2013680-203-full.txt', 'UDS2013680-709-full.txt', 'UDS2013680-571-full.txt', 'UDS2013680-673-full.txt', 'UDS2013680-273-full.txt', 'UDS2013680-768-full.txt', 'UDS2013680-55-full.txt', 'UDS2013680-758-full.txt', 'UDS2013680-686-full.txt', 'UDS2013680-516-full.txt', 'UDS2013680-486-full.txt', 'UDS2013680-582-full.txt', 'UDS2013680-328-full.txt', 'UDS2013680-329-full.txt', 'UDS2013680-598-full.txt', 'UDS2013680-597-full.txt', 'UDS2013680-394-full.txt', 'UDS2013680-659-full.txt', 'UDS2013680-630-full.txt', 'UDS2013680-774-full.txt', 'UDS2013680-88-full.txt', 'UDS2013680-722-full.txt', 'UDS2013680-623-full.txt', 'UDS2013680-342-full.txt', 'UDS2013680-37-full.txt', 'UDS2013680-291-full.txt', 'UDS2013680-86-full.txt', 'UDS2013680-22-full.txt', 'UDS2013680-441-full.txt', 'UDS2013680-325-full.txt', 'UDS2013680-460-full.txt', 'UDS2013680-106-full.txt', 'UDS2013680-6-full.txt', 'UDS2013680-295-full.txt', 'UDS2013680-330-full.txt', 'UDS2013680-299-full.txt', 'UDS2013680-592-full.txt', 'UDS2013680-21-full.txt', 'UDS2013680-210-full.txt', 'UDS2013680-147-full.txt', 'UDS2013680-351-full.txt', 'UDS2013680-250-full.txt', 'UDS2013680-212-full.txt', 'UDS2013680-25-full.txt', 'UDS2013680-605-full.txt', 'UDS2013680-276-full.txt', 'UDS2013680-782-full.txt', 'UDS2013680-651-full.txt', 'UDS2013680-773-full.txt', 'UDS2013680-213-full.txt', 'UDS2013680-440-full.txt', 'UDS2013680-281-full.txt', 'UDS2013680-635-full.txt', 'UDS2013680-704-full.txt', 'UDS2013680-776-full.txt', 'UDS2013680-626-full.txt', 'UDS2013680-218-full.txt', 'UDS2013680-415-full.txt', 'UDS2013680-183-full.txt', 'UDS2013680-290-full.txt', 'UDS2013680-573-full.txt', 'UDS2013680-483-full.txt', 'UDS2013680-587-full.txt', 'UDS2013680-752-full.txt', 'UDS2013680-228-full.txt', 'UDS2013680-105-full.txt', 'UDS2013680-244-full.txt', 'UDS2013680-9-full.txt', 'UDS2013680-69-full.txt', 'UDS2013680-393-full.txt', 'UDS2013680-661-full.txt', 'UDS2013680-526-full.txt', 'UDS2013680-409-full.txt', 'UDS2013680-376-full.txt', 'UDS2013680-266-full.txt', 'UDS2013680-202-full.txt', 'UDS2013680-717-full.txt', 'UDS2013680-496-full.txt', 'UDS2013680-390-full.txt', 'UDS2013680-160-full.txt', 'UDS2013680-401-full.txt', 'UDS2013680-624-full.txt', 'UDS2013680-71-full.txt', 'UDS2013680-566-full.txt', 'UDS2013680-65-full.txt', 'UDS2013680-742-full.txt', 'UDS2013680-503-full.txt', 'UDS2013680-622-full.txt', 'UDS2013680-188-full.txt', 'UDS2013680-492-full.txt', 'UDS2013680-12-full.txt', 'UDS2013680-681-full.txt', 'UDS2013680-254-full.txt', 'UDS2013680-2-full.txt', 'UDS2013680-668-full.txt', 'UDS2013680-577-full.txt', 'UDS2013680-398-full.txt', 'UDS2013680-663-full.txt', 'UDS2013680-27-full.txt', 'UDS2013680-337-full.txt', 'UDS2013680-134-full.txt', 'UDS2013680-283-full.txt', 'UDS2013680-343-full.txt', 'UDS2013680-207-full.txt', 'UDS2013680-601-full.txt', 'UDS2013680-231-full.txt', 'UDS2013680-449-full.txt', 'UDS2013680-744-full.txt', 'UDS2013680-640-full.txt', 'UDS2013680-185-full.txt', 'UDS2013680-360-full.txt', 'UDS2013680-161-full.txt', 'UDS2013680-665-full.txt', 'UDS2013680-100-full.txt', 'UDS2013680-256-full.txt', 'UDS2013680-137-full.txt', 'UDS2013680-510-full.txt', 'UDS2013680-361-full.txt', 'UDS2013680-239-full.txt', 'UDS2013680-485-full.txt', 'UDS2013680-109-full.txt', 'UDS2013680-596-full.txt', 'UDS2013680-172-full.txt', 'UDS2013680-475-full.txt', 'UDS2013680-537-full.txt', 'UDS2013680-637-full.txt', 'UDS2013680-522-full.txt', 'UDS2013680-389-full.txt', 'UDS2013680-660-full.txt', 'UDS2013680-611-full.txt', 'UDS2013680-740-full.txt', 'UDS2013680-466-full.txt', 'UDS2013680-14-full.txt', 'UDS2013680-235-full.txt', 'UDS2013680-90-full.txt', 'UDS2013680-141-full.txt', 'UDS2013680-236-full.txt', 'UDS2013680-525-full.txt', 'UDS2013680-369-full.txt', 'UDS2013680-653-full.txt', 'UDS2013680-558-full.txt', 'UDS2013680-743-full.txt', 'UDS2013680-458-full.txt', 'UDS2013680-761-full.txt', 'UDS2013680-456-full.txt', 'UDS2013680-484-full.txt', 'UDS2013680-718-full.txt', 'UDS2013680-311-full.txt', 'UDS2013680-349-full.txt', 'UDS2013680-379-full.txt', 'UDS2013680-576-full.txt', 'UDS2013680-362-full.txt', 'UDS2013680-157-full.txt', 'UDS2013680-87-full.txt', 'UDS2013680-432-full.txt', 'UDS2013680-591-full.txt', 'UDS2013680-43-full.txt', 'UDS2013680-335-full.txt', 'UDS2013680-614-full.txt', 'UDS2013680-372-full.txt', 'UDS2013680-64-full.txt', 'UDS2013680-416-full.txt', 'UDS2013680-727-full.txt', 'UDS2013680-779-full.txt', 'UDS2013680-408-full.txt', 'UDS2013680-223-full.txt', 'UDS2013680-241-full.txt', 'UDS2013680-180-full.txt', 'UDS2013680-171-full.txt', 'UDS2013680-467-full.txt', 'UDS2013680-693-full.txt', 'UDS2013680-757-full.txt', 'UDS2013680-481-full.txt', 'UDS2013680-317-full.txt', 'UDS2013680-126-full.txt', 'UDS2013680-770-full.txt', 'UDS2013680-220-full.txt', 'UDS2013680-700-full.txt', 'UDS2013680-687-full.txt', 'UDS2013680-412-full.txt', 'UDS2013680-724-full.txt', 'UDS2013680-666-full.txt', 'UDS2013680-193-full.txt', 'UDS2013680-336-full.txt', 'UDS2013680-339-full.txt', 'UDS2013680-344-full.txt', 'UDS2013680-41-full.txt', 'UDS2013680-434-full.txt', 'UDS2013680-116-full.txt', 'UDS2013680-324-full.txt', 'UDS2013680-8-full.txt', 'UDS2013680-662-full.txt', 'UDS2013680-125-full.txt', 'UDS2013680-498-full.txt', 'UDS2013680-443-full.txt', 'UDS2013680-430-full.txt', 'UDS2013680-165-full.txt', 'UDS2013680-578-full.txt', 'UDS2013680-128-full.txt', 'UDS2013680-677-full.txt', 'UDS2013680-638-full.txt', 'UDS2013680-305-full.txt', 'UDS2013680-720-full.txt', 'UDS2013680-491-full.txt', 'UDS2013680-279-full.txt', 'UDS2013680-120-full.txt', 'UDS2013680-99-full.txt', 'UDS2013680-645-full.txt', 'UDS2013680-102-full.txt', 'UDS2013680-163-full.txt', 'UDS2013680-643-full.txt', 'UDS2013680-363-full.txt', 'UDS2013680-73-full.txt', 'UDS2013680-707-full.txt', 'UDS2013680-66-full.txt', 'UDS2013680-101-full.txt', 'UDS2013680-632-full.txt', 'UDS2013680-284-full.txt', 'UDS2013680-269-full.txt', 'UDS2013680-3-full.txt', 'UDS2013680-53-full.txt', 'UDS2013680-543-full.txt', 'UDS2013680-737-full.txt', 'UDS2013680-602-full.txt', 'UDS2013680-629-full.txt', 'UDS2013680-470-full.txt', 'UDS2013680-377-full.txt', 'UDS2013680-405-full.txt', 'UDS2013680-4-full.txt', 'UDS2013680-199-full.txt', 'UDS2013680-387-full.txt', 'UDS2013680-75-full.txt', 'UDS2013680-478-full.txt', 'UDS2013680-580-full.txt', 'UDS2013680-252-full.txt', 'UDS2013680-310-full.txt', 'UDS2013680-318-full.txt', 'UDS2013680-115-full.txt', 'UDS2013680-119-full.txt', 'UDS2013680-197-full.txt', 'UDS2013680-46-full.txt', 'UDS2013680-118-full.txt', 'UDS2013680-230-full.txt', 'UDS2013680-439-full.txt', 'UDS2013680-89-full.txt', 'UDS2013680-135-full.txt', 'UDS2013680-644-full.txt', 'UDS2013680-34-full.txt', 'UDS2013680-176-full.txt', 'UDS2013680-152-full.txt', 'UDS2013680-646-full.txt', 'UDS2013680-85-full.txt', 'UDS2013680-471-full.txt', 'UDS2013680-407-full.txt', 'UDS2013680-29-full.txt', 'UDS2013680-39-full.txt', 'UDS2013680-80-full.txt', 'UDS2013680-733-full.txt', 'UDS2013680-225-full.txt', 'UDS2013680-575-full.txt', 'UDS2013680-177-full.txt', 'UDS2013680-309-full.txt', 'UDS2013680-745-full.txt', 'UDS2013680-680-full.txt', 'UDS2013680-603-full.txt', 'UDS2013680-586-full.txt', 'UDS2013680-520-full.txt', 'UDS2013680-450-full.txt', 'UDS2013680-150-full.txt', 'UDS2013680-649-full.txt', 'UDS2013680-554-full.txt', 'UDS2013680-536-full.txt', 'UDS2013680-326-full.txt', 'UDS2013680-26-full.txt', 'UDS2013680-155-full.txt', 'UDS2013680-442-full.txt', 'UDS2013680-234-full.txt', 'UDS2013680-472-full.txt', 'UDS2013680-74-full.txt', 'UDS2013680-227-full.txt', 'UDS2013680-277-full.txt', 'UDS2013680-431-full.txt', 'UDS2013680-20-full.txt', 'UDS2013680-694-full.txt', 'UDS2013680-49-full.txt', 'UDS2013680-544-full.txt', 'UDS2013680-684-full.txt', 'UDS2013680-371-full.txt', 'UDS2013680-676-full.txt', 'UDS2013680-184-full.txt', 'UDS2013680-219-full.txt', 'UDS2013680-664-full.txt', 'UDS2013680-755-full.txt', 'UDS2013680-713-full.txt', 'UDS2013680-692-full.txt', 'UDS2013680-224-full.txt', 'UDS2013680-162-full.txt', 'UDS2013680-246-full.txt', 'UDS2013680-747-full.txt', 'UDS2013680-550-full.txt', 'UDS2013680-280-full.txt', 'UDS2013680-289-full.txt', 'UDS2013680-201-full.txt', 'UDS2013680-164-full.txt', 'UDS2013680-308-full.txt', 'UDS2013680-114-full.txt', 'UDS2013680-166-full.txt', 'UDS2013680-715-full.txt', 'UDS2013680-396-full.txt', 'UDS2013680-50-full.txt', 'UDS2013680-397-full.txt', 'UDS2013680-642-full.txt', 'UDS2013680-374-full.txt', 'UDS2013680-178-full.txt', 'UDS2013680-353-full.txt', 'UDS2013680-327-full.txt', 'UDS2013680-98-full.txt', 'UDS2013680-40-full.txt', 'UDS2013680-545-full.txt', 'UDS2013680-400-full.txt', 'UDS2013680-70-full.txt', 'UDS2013680-82-full.txt', 'UDS2013680-541-full.txt', 'UDS2013680-552-full.txt', 'UDS2013680-382-full.txt', 'UDS2013680-104-full.txt', 'UDS2013680-288-full.txt', 'UDS2013680-263-full.txt', 'UDS2013680-579-full.txt', 'UDS2013680-130-full.txt', 'UDS2013680-313-full.txt', 'UDS2013680-778-full.txt', 'UDS2013680-93-full.txt', 'UDS2013680-690-full.txt', 'UDS2013680-175-full.txt', 'UDS2013680-751-full.txt', 'UDS2013680-10-full.txt', 'UDS2013680-293-full.txt', 'UDS2013680-307-full.txt', 'UDS2013680-257-full.txt', 'UDS2013680-153-full.txt', 'UDS2013680-357-full.txt']\n"
     ]
    }
   ],
   "source": [
    "print files\n"
   ]
  },
  {
   "cell_type": "code",
   "execution_count": 8,
   "metadata": {
    "collapsed": false
   },
   "outputs": [
    {
     "data": {
      "text/plain": [
       "['UDS2013680-447-full.txt',\n",
       " 'UDS2013680-610-full.txt',\n",
       " 'UDS2013680-385-full.txt']"
      ]
     },
     "execution_count": 8,
     "metadata": {},
     "output_type": "execute_result"
    }
   ],
   "source": [
    "files[:3]"
   ]
  },
  {
   "cell_type": "code",
   "execution_count": 9,
   "metadata": {
    "collapsed": false
   },
   "outputs": [
    {
     "name": "stdout",
     "output_type": "stream",
     "text": [
      "['UDS2013680-447-full.txt', 'UDS2013680-610-full.txt', 'UDS2013680-385-full.txt']\n"
     ]
    }
   ],
   "source": [
    "print files[:3]"
   ]
  },
  {
   "cell_type": "code",
   "execution_count": 10,
   "metadata": {
    "collapsed": true
   },
   "outputs": [],
   "source": [
    "corpus_path='UMA_Fraser_Radio_Talks/'"
   ]
  },
  {
   "cell_type": "code",
   "execution_count": 11,
   "metadata": {
    "collapsed": true
   },
   "outputs": [],
   "source": [
    "files2=open(os.path.join(corpus_path,files[0]),'r')"
   ]
  },
  {
   "cell_type": "code",
   "execution_count": 12,
   "metadata": {
    "collapsed": false
   },
   "outputs": [
    {
     "data": {
      "text/plain": [
       "list"
      ]
     },
     "execution_count": 12,
     "metadata": {},
     "output_type": "execute_result"
    }
   ],
   "source": [
    "type(files)"
   ]
  },
  {
   "cell_type": "code",
   "execution_count": 13,
   "metadata": {
    "collapsed": false
   },
   "outputs": [
    {
     "data": {
      "text/plain": [
       "file"
      ]
     },
     "execution_count": 13,
     "metadata": {},
     "output_type": "execute_result"
    }
   ],
   "source": [
    "type(files2)"
   ]
  },
  {
   "cell_type": "code",
   "execution_count": 16,
   "metadata": {
    "collapsed": false
   },
   "outputs": [
    {
     "data": {
      "text/plain": [
       "<open file 'UMA_Fraser_Radio_Talks/UDS2013680-447-full.txt', mode 'r' at 0x31544b0>"
      ]
     },
     "execution_count": 16,
     "metadata": {},
     "output_type": "execute_result"
    }
   ],
   "source": [
    "files2\n"
   ]
  },
  {
   "cell_type": "code",
   "execution_count": 18,
   "metadata": {
    "collapsed": false
   },
   "outputs": [
    {
     "name": "stdout",
     "output_type": "stream",
     "text": [
      "<!--start metadata-->\r\n",
      "Title: Commonwealth ban on export of birds\r\n",
      "Description: press statement\r\n",
      "Date: 20/12/1959\r\n",
      "Collection: John Malcolm Fraser, 2007.0023\r\n",
      "Collection URI: http://gallery.its.unimelb.edu.au/imu/imu.php?request=load&irn=115190&ecatalogue=on&view=details\r\n",
      "Format: Uncorrected OCR text\r\n",
      "<!--end metadata-->\r\n",
      "\r\n",
      "\r\n",
      "P8Ep8 STATEMENT         December 20th, 1959\r\n",
      "i�ALCOJ.M FRASZR\r\n",
      "      You probably saw a few days ago reports in the national press \r\n",
      "that the Commonwealth has banned the export of all birds, wether trapped \r\n",
      "in their native state or whether they are aviary bred. Export of birds \r\n",
      "will only be allowed on a zoo to zoo basis, thus destroying the poecibility \r\n",
      "of evasion of the regulations.\r\n",
      "      Several people originally approached me on this matter very \r\n",
      "nearly a year ago. Then as soon as Parliament assembled in 1959 several of \r\n",
      "us approached the Minister for Customs and asked him to use the power that \r\n",
      "the Commonwealth has always possessed to ban the export of birds on the two \r\n",
      "grounds, one that the trading of birds constituted a threat to the survival \r\n",
      "of some species of birds and secondly on the grounds of very severe losses \r\n",
      "and the cruelty concerned in the trade. Losses have been placed as high \r\n",
      "as 804 to 90 of birds trapped.\r\n",
      "      Senator Henty at that time promised to examine the matter \r\n",
      "fully. After making his examination he felt there should be a conference \r\n",
      "between the Commonwealth and State Officers to examine the whole question. \r\n",
      "He came to this conclusion because traditionally the protection of native \r\n",
      "fauna and flora has rested on the States' shoulders even though the \r\n",
      "Commonwealth control over export and customs gives the Oommonwealth \r\n",
      "considerable powers.\r\n",
      "      It was hoped that an agreement could be reached between all \r\n",
      "the states of the Cormmonwealth, on the best means to control this trade. \r\n",
      "The Commonwealth hoped to get this agreement for this reason. The \r\n",
      "Commonwealth has the power to ban the export of birds, but it has no \r\n",
      "power over the internal trading of birds between one State and another and, \r\n",
      "therefore, if there is one )tats which remains un�co-operative the efforts \r\n",
      "of other States can be destroyed by the one State pex nittin ; the internal \r\n",
      "trade to continue.\r\n",
      "      This conference between the Commonwealth and the States was \r\n",
      "held during last winter. Unfortunately there were one or two States that \r\n",
      "would not agree that the export of birds constituted a threat to the \r\n",
      "existence of certain species of birds and, furthermore, there were one \r\n",
      "or two States that would not admit that the number of birds trapped must \r\n",
      "very greatly exceed the number of birds traded. In other words, there\r\n",
      "\f",
      "\r\n",
      "   one or two States that would not admit that the losses involved in \r\n",
      "his trade were particularly high.\r\n",
      "        it is difficult to get co .plete evidence of loss, but the\r\n",
      "   t rosbie JForrison, who was a conservative and accurate man, placed\r\n",
      "   Huber of loseee as at least 75%. This loss alone should surely \r\n",
      "have given everyone csauae to doubt whether this trade should be \r\n",
      "permitted, quite apart from it effect on the survival of certain \r\n",
      "species of Australian birds. Unfortunately, one or two States hay \r\n",
      "apparently taken pride in the trade, the 1Fiaher ee and Games Impartment \r\n",
      "of South Australia stated in their 1957/58 report that the demand for \r\n",
      "their live birds and animals from interstate buyers and overseas \r\n",
      "people remained firm; then followed a long lief of birds, totalling \r\n",
      "tens of thou�ands, which have been traded in that State.\r\n",
      "        Because of these urco-operative States it was not possible \r\n",
      "for the officers of the States and the Commonwealth meeting together \r\n",
      "to come to a conclusion that would have been of any help to the bird \r\n",
      "lovers of Australia. The only des that these people geed to were \r\n",
      "certain administrative ones which, ih my view, would have increased \r\n",
      "the amount of red tape involved, and which would have done little or \r\n",
      "nothing to protect Australian bird life.\r\n",
      "        Senator Henty, who has always been most sympathetic to the \r\n",
      "point of view put forward by bird lover, came to much the same \r\n",
      "conclusion. There were two choices open to him. It would have been \r\n",
      "possible to give the administrative changes arrived at by agreement \r\n",
      "with the States rMa trial for twelve months, Un the other hand, he \r\n",
      "could decide to act now and use the Co { onwealth power to ban the \r\n",
      "export of birds. Senator iienty, with the Government's approval, has \r\n",
      "chosen the latter course and I think we all give him our thane that \r\n",
      "he has done so.\r\n",
      "        In the past years the no      trade     e asoetly\r\n",
      "fr - m overseas but in recent months t Australian trade,\r\n",
      "over which the Commonwealth has no control, has been building up to \r\n",
      "large proportions. If the export of birds is banned now, as it has \r\n",
      "been, the internal trade will probably not be sufficient, or certainly \r\n",
      "we hope it will not be sufficient, to maintain the trading industry\r\n",
      "which could well die a natural death.\r\n",
      "\f",
      "\r\n",
      "               3\r\n",
      "\r\n",
      "       However, if the Commonwealth waited another twelve\r\n",
      "or eighteen months before banning the export of birds the local\r\n",
      "trade may well have grown to such proportions that it would sustain\r\n",
      "trading in its own right. I think this could have been a significant\r\n",
      "factor in deciding the Government to act now.\r\n",
      "      This is my last statement until Parliament rentuaes\r\n",
      "next year. I am glad to have been able to end on a note that\r\n",
      "should appeal to many Australians from all walks of life, and I\r\n",
      "wish you one and all a Happy Christmas and Prosperous New Year.\r\n",
      "\f",
      "\r\n",
      "\n"
     ]
    }
   ],
   "source": [
    "text=files2.read()\n",
    "print text"
   ]
  },
  {
   "cell_type": "code",
   "execution_count": 19,
   "metadata": {
    "collapsed": false
   },
   "outputs": [
    {
     "data": {
      "text/plain": [
       "str"
      ]
     },
     "execution_count": 19,
     "metadata": {},
     "output_type": "execute_result"
    }
   ],
   "source": [
    "type(text)"
   ]
  },
  {
   "cell_type": "code",
   "execution_count": 23,
   "metadata": {
    "collapsed": true
   },
   "outputs": [],
   "source": [
    "data=text.split('<!--end metadata-->') #returns a list"
   ]
  },
  {
   "cell_type": "code",
   "execution_count": 24,
   "metadata": {
    "collapsed": false
   },
   "outputs": [
    {
     "data": {
      "text/plain": [
       "['<!--start metadata-->\\r\\nTitle: Commonwealth ban on export of birds\\r\\nDescription: press statement\\r\\nDate: 20/12/1959\\r\\nCollection: John Malcolm Fraser, 2007.0023\\r\\nCollection URI: http://gallery.its.unimelb.edu.au/imu/imu.php?request=load&irn=115190&ecatalogue=on&view=details\\r\\nFormat: Uncorrected OCR text\\r\\n',\n",
       " \"\\r\\n\\r\\n\\r\\nP8Ep8 STATEMENT         December 20th, 1959\\r\\ni\\xe9ALCOJ.M FRASZR\\r\\n      You probably saw a few days ago reports in the national press \\r\\nthat the Commonwealth has banned the export of all birds, wether trapped \\r\\nin their native state or whether they are aviary bred. Export of birds \\r\\nwill only be allowed on a zoo to zoo basis, thus destroying the poecibility \\r\\nof evasion of the regulations.\\r\\n      Several people originally approached me on this matter very \\r\\nnearly a year ago. Then as soon as Parliament assembled in 1959 several of \\r\\nus approached the Minister for Customs and asked him to use the power that \\r\\nthe Commonwealth has always possessed to ban the export of birds on the two \\r\\ngrounds, one that the trading of birds constituted a threat to the survival \\r\\nof some species of birds and secondly on the grounds of very severe losses \\r\\nand the cruelty concerned in the trade. Losses have been placed as high \\r\\nas 804 to 90 of birds trapped.\\r\\n      Senator Henty at that time promised to examine the matter \\r\\nfully. After making his examination he felt there should be a conference \\r\\nbetween the Commonwealth and State Officers to examine the whole question. \\r\\nHe came to this conclusion because traditionally the protection of native \\r\\nfauna and flora has rested on the States' shoulders even though the \\r\\nCommonwealth control over export and customs gives the Oommonwealth \\r\\nconsiderable powers.\\r\\n      It was hoped that an agreement could be reached between all \\r\\nthe states of the Cormmonwealth, on the best means to control this trade. \\r\\nThe Commonwealth hoped to get this agreement for this reason. The \\r\\nCommonwealth has the power to ban the export of birds, but it has no \\r\\npower over the internal trading of birds between one State and another and, \\r\\ntherefore, if there is one )tats which remains un\\x97co-operative the efforts \\r\\nof other States can be destroyed by the one State pex nittin ; the internal \\r\\ntrade to continue.\\r\\n      This conference between the Commonwealth and the States was \\r\\nheld during last winter. Unfortunately there were one or two States that \\r\\nwould not agree that the export of birds constituted a threat to the \\r\\nexistence of certain species of birds and, furthermore, there were one \\r\\nor two States that would not admit that the number of birds trapped must \\r\\nvery greatly exceed the number of birds traded. In other words, there\\r\\n\\x0c\\r\\n   one or two States that would not admit that the losses involved in \\r\\nhis trade were particularly high.\\r\\n        it is difficult to get co .plete evidence of loss, but the\\r\\n   t rosbie JForrison, who was a conservative and accurate man, placed\\r\\n   Huber of loseee as at least 75%. This loss alone should surely \\r\\nhave given everyone csauae to doubt whether this trade should be \\r\\npermitted, quite apart from it effect on the survival of certain \\r\\nspecies of Australian birds. Unfortunately, one or two States hay \\r\\napparently taken pride in the trade, the 1Fiaher ee and Games Impartment \\r\\nof South Australia stated in their 1957/58 report that the demand for \\r\\ntheir live birds and animals from interstate buyers and overseas \\r\\npeople remained firm; then followed a long lief of birds, totalling \\r\\ntens of thou\\xa9ands, which have been traded in that State.\\r\\n        Because of these urco-operative States it was not possible \\r\\nfor the officers of the States and the Commonwealth meeting together \\r\\nto come to a conclusion that would have been of any help to the bird \\r\\nlovers of Australia. The only des that these people geed to were \\r\\ncertain administrative ones which, ih my view, would have increased \\r\\nthe amount of red tape involved, and which would have done little or \\r\\nnothing to protect Australian bird life.\\r\\n        Senator Henty, who has always been most sympathetic to the \\r\\npoint of view put forward by bird lover, came to much the same \\r\\nconclusion. There were two choices open to him. It would have been \\r\\npossible to give the administrative changes arrived at by agreement \\r\\nwith the States rMa trial for twelve months, Un the other hand, he \\r\\ncould decide to act now and use the Co { onwealth power to ban the \\r\\nexport of birds. Senator iienty, with the Government's approval, has \\r\\nchosen the latter course and I think we all give him our thane that \\r\\nhe has done so.\\r\\n        In the past years the no      trade     e asoetly\\r\\nfr - m overseas but in recent months t Australian trade,\\r\\nover which the Commonwealth has no control, has been building up to \\r\\nlarge proportions. If the export of birds is banned now, as it has \\r\\nbeen, the internal trade will probably not be sufficient, or certainly \\r\\nwe hope it will not be sufficient, to maintain the trading industry\\r\\nwhich could well die a natural death.\\r\\n\\x0c\\r\\n               3\\r\\n\\r\\n       However, if the Commonwealth waited another twelve\\r\\nor eighteen months before banning the export of birds the local\\r\\ntrade may well have grown to such proportions that it would sustain\\r\\ntrading in its own right. I think this could have been a significant\\r\\nfactor in deciding the Government to act now.\\r\\n      This is my last statement until Parliament rentuaes\\r\\nnext year. I am glad to have been able to end on a note that\\r\\nshould appeal to many Australians from all walks of life, and I\\r\\nwish you one and all a Happy Christmas and Prosperous New Year.\\r\\n\\x0c\\r\\n\"]"
      ]
     },
     "execution_count": 24,
     "metadata": {},
     "output_type": "execute_result"
    }
   ],
   "source": [
    "data"
   ]
  },
  {
   "cell_type": "code",
   "execution_count": 22,
   "metadata": {
    "collapsed": false
   },
   "outputs": [
    {
     "data": {
      "text/plain": [
       "list"
      ]
     },
     "execution_count": 22,
     "metadata": {},
     "output_type": "execute_result"
    }
   ],
   "source": [
    "type(data)"
   ]
  },
  {
   "cell_type": "code",
   "execution_count": 25,
   "metadata": {
    "collapsed": false
   },
   "outputs": [
    {
     "name": "stdout",
     "output_type": "stream",
     "text": [
      "<!--start metadata-->\r\n",
      "Title: Commonwealth ban on export of birds\r\n",
      "Description: press statement\r\n",
      "Date: 20/12/1959\r\n",
      "Collection: John Malcolm Fraser, 2007.0023\r\n",
      "Collection URI: http://gallery.its.unimelb.edu.au/imu/imu.php?request=load&irn=115190&ecatalogue=on&view=details\r\n",
      "Format: Uncorrected OCR text\r\n",
      "\n"
     ]
    }
   ],
   "source": [
    "print data[0]"
   ]
  },
  {
   "cell_type": "code",
   "execution_count": 27,
   "metadata": {
    "collapsed": false
   },
   "outputs": [
    {
     "name": "stdout",
     "output_type": "stream",
     "text": [
      "* <!--start metadata-->\n",
      "* Title: Commonwealth ban on export of birds\n",
      "* Description: press statement\n",
      "* Date: 20/12/1959\n",
      "* Collection: John Malcolm Fraser, 2007.0023\n",
      "* Collection URI: http://gallery.its.unimelb.edu.au/imu/imu.php?request=load&irn=115190&ecatalogue=on&view=details\n",
      "* Format: Uncorrected OCR text\n",
      "* \n"
     ]
    }
   ],
   "source": [
    "for line in data[0].split('\\r\\n'):\n",
    "    print '*' ,line "
   ]
  },
  {
   "cell_type": "code",
   "execution_count": 28,
   "metadata": {
    "collapsed": false
   },
   "outputs": [
    {
     "data": {
      "text/plain": [
       "'<!--start metadata-->\\r\\nTitle: Commonwealth ban on export of birds\\r\\nDescription: press statement\\r\\nDate: 20/12/1959\\r\\nCollection: John Malcolm Fraser, 2007.0023\\r\\nCollection URI: http://gallery.its.unimelb.edu.au/imu/imu.php?request=load&irn=115190&ecatalogue=on&view=details\\r\\nFormat: Uncorrected OCR text\\r\\n'"
      ]
     },
     "execution_count": 28,
     "metadata": {},
     "output_type": "execute_result"
    }
   ],
   "source": [
    "data[0]"
   ]
  },
  {
   "cell_type": "code",
   "execution_count": 33,
   "metadata": {
    "collapsed": false
   },
   "outputs": [
    {
     "data": {
      "text/plain": [
       "'\\r'"
      ]
     },
     "execution_count": 33,
     "metadata": {},
     "output_type": "execute_result"
    }
   ],
   "source": [
    "data[0][-1] #last character\n",
    "data[0][-2] # Second last Character\n"
   ]
  },
  {
   "cell_type": "code",
   "execution_count": 35,
   "metadata": {
    "collapsed": false
   },
   "outputs": [
    {
     "name": "stdout",
     "output_type": "stream",
     "text": [
      "* Title: Commonwealth ban on export of birds\n",
      "* Description: press statement\n",
      "* Date: 20/12/1959\n",
      "* Collection: John Malcolm Fraser, 2007.0023\n",
      "* Collection URI: http://gallery.its.unimelb.edu.au/imu/imu.php?request=load&irn=115190&ecatalogue=on&view=details\n",
      "* Format: Uncorrected OCR text\n"
     ]
    }
   ],
   "source": [
    "for line in data[0].split('\\r\\n'):\n",
    "    if not line: #empty line\n",
    "        continue\n",
    "    if line[0]=='<':\n",
    "        continue\n",
    "    print '*' ,line "
   ]
  },
  {
   "cell_type": "code",
   "execution_count": 40,
   "metadata": {
    "collapsed": false
   },
   "outputs": [
    {
     "name": "stdout",
     "output_type": "stream",
     "text": [
      "true\n"
     ]
    }
   ],
   "source": [
    "st1=''\n",
    "st2='i'\n",
    "if not st1:\n",
    "    print 'true'\n",
    "else:\n",
    "    print 'false'"
   ]
  },
  {
   "cell_type": "code",
   "execution_count": 41,
   "metadata": {
    "collapsed": false
   },
   "outputs": [
    {
     "name": "stdout",
     "output_type": "stream",
     "text": [
      "* ['Title', ' Commonwealth ban on export of birds']\n",
      "* ['Description', ' press statement']\n",
      "* ['Date', ' 20/12/1959']\n",
      "* ['Collection', ' John Malcolm Fraser, 2007.0023']\n",
      "* ['Collection URI', ' http', '//gallery.its.unimelb.edu.au/imu/imu.php?request=load&irn=115190&ecatalogue=on&view=details']\n",
      "* ['Format', ' Uncorrected OCR text']\n"
     ]
    }
   ],
   "source": [
    "for line in data[0].split('\\r\\n'):\n",
    "    if not line: #empty line\n",
    "        continue\n",
    "    if line[0]=='<':\n",
    "        continue\n",
    "    element=line.split(':')\n",
    "         \n",
    "    print '*' ,element"
   ]
  },
  {
   "cell_type": "code",
   "execution_count": 42,
   "metadata": {
    "collapsed": false
   },
   "outputs": [
    {
     "data": {
      "text/plain": [
       "list"
      ]
     },
     "execution_count": 42,
     "metadata": {},
     "output_type": "execute_result"
    }
   ],
   "source": [
    "type(element)"
   ]
  },
  {
   "cell_type": "code",
   "execution_count": 43,
   "metadata": {
    "collapsed": false
   },
   "outputs": [
    {
     "name": "stdout",
     "output_type": "stream",
     "text": [
      "* ['Title', ' Commonwealth ban on export of birds']\n",
      "* ['Description', ' press statement']\n",
      "* ['Date', ' 20/12/1959']\n",
      "* ['Collection', ' John Malcolm Fraser, 2007.0023']\n",
      "* ['Collection URI', ' http://gallery.its.unimelb.edu.au/imu/imu.php?request=load&irn=115190&ecatalogue=on&view=details']\n",
      "* ['Format', ' Uncorrected OCR text']\n"
     ]
    }
   ],
   "source": [
    "for line in data[0].split('\\r\\n'):\n",
    "    if not line: #empty line\n",
    "        continue\n",
    "    if line[0]=='<':\n",
    "        continue\n",
    "    element=line.split(':',1)         \n",
    "    print '*' ,element"
   ]
  },
  {
   "cell_type": "code",
   "execution_count": 48,
   "metadata": {
    "collapsed": false
   },
   "outputs": [],
   "source": [
    "line.split?"
   ]
  },
  {
   "cell_type": "code",
   "execution_count": 51,
   "metadata": {
    "collapsed": true
   },
   "outputs": [],
   "source": [
    "commonwords={'the':4012,'of':74875,'a':32} #dictionary Key - value ,Example Bank Account"
   ]
  },
  {
   "cell_type": "code",
   "execution_count": 52,
   "metadata": {
    "collapsed": false
   },
   "outputs": [
    {
     "data": {
      "text/plain": [
       "dict"
      ]
     },
     "execution_count": 52,
     "metadata": {},
     "output_type": "execute_result"
    }
   ],
   "source": [
    "type (commonwords)"
   ]
  },
  {
   "cell_type": "code",
   "execution_count": 53,
   "metadata": {
    "collapsed": false
   },
   "outputs": [
    {
     "data": {
      "text/plain": [
       "74875"
      ]
     },
     "execution_count": 53,
     "metadata": {},
     "output_type": "execute_result"
    }
   ],
   "source": [
    "commonwords['of']"
   ]
  },
  {
   "cell_type": "code",
   "execution_count": 54,
   "metadata": {
    "collapsed": false
   },
   "outputs": [
    {
     "data": {
      "text/plain": [
       "4012"
      ]
     },
     "execution_count": 54,
     "metadata": {},
     "output_type": "execute_result"
    }
   ],
   "source": [
    "commonwords['the']"
   ]
  },
  {
   "cell_type": "code",
   "execution_count": 68,
   "metadata": {
    "collapsed": true
   },
   "outputs": [],
   "source": [
    "commonwords['and']=2000 #add new key value pair, key value pair is also called an ITEM"
   ]
  },
  {
   "cell_type": "code",
   "execution_count": 69,
   "metadata": {
    "collapsed": false
   },
   "outputs": [
    {
     "data": {
      "text/plain": [
       "{'a': 32, 'and': 2000, 'of': 74875, 'the': 4012}"
      ]
     },
     "execution_count": 69,
     "metadata": {},
     "output_type": "execute_result"
    }
   ],
   "source": [
    "commonwords"
   ]
  },
  {
   "cell_type": "code",
   "execution_count": 70,
   "metadata": {
    "collapsed": false
   },
   "outputs": [
    {
     "data": {
      "text/plain": [
       "['a', 'of', 'the', 'and']"
      ]
     },
     "execution_count": 70,
     "metadata": {},
     "output_type": "execute_result"
    }
   ],
   "source": [
    "commonwords.keys()"
   ]
  },
  {
   "cell_type": "code",
   "execution_count": 71,
   "metadata": {
    "collapsed": false
   },
   "outputs": [
    {
     "name": "stdout",
     "output_type": "stream",
     "text": [
      "{'Collection URI': ' http://gallery.its.unimelb.edu.au/imu/imu.php?request=load&irn=115190&ecatalogue=on&view=details', 'Description': ' press statement', 'Format': ' Uncorrected OCR text', 'Title': ' Commonwealth ban on export of birds', 'Collection': ' John Malcolm Fraser, 2007.0023', 'Date': ' 20/12/1959'}\n"
     ]
    }
   ],
   "source": [
    "dictionary={}#dictionary\n",
    "for line in data[0].split('\\r\\n'):\n",
    "    if not line: #empty line\n",
    "        continue\n",
    "    if line[0]=='<':\n",
    "        continue\n",
    "    element=line.split(':',1)\n",
    "    key=element[0]\n",
    "    value=element[-1]\n",
    "    \n",
    "    dictionary[key]=value\n",
    "    \n",
    "print  dictionary"
   ]
  },
  {
   "cell_type": "code",
   "execution_count": 62,
   "metadata": {
    "collapsed": false
   },
   "outputs": [
    {
     "data": {
      "text/plain": [
       "{'Collection': ' John Malcolm Fraser, 2007.0023',\n",
       " 'Collection URI': ' http://gallery.its.unimelb.edu.au/imu/imu.php?request=load&irn=115190&ecatalogue=on&view=details',\n",
       " 'Date': ' 20/12/1959',\n",
       " 'Description': ' press statement',\n",
       " 'Format': ' Uncorrected OCR text',\n",
       " 'Title': ' Commonwealth ban on export of birds'}"
      ]
     },
     "execution_count": 62,
     "metadata": {},
     "output_type": "execute_result"
    }
   ],
   "source": [
    "dictionary"
   ]
  },
  {
   "cell_type": "code",
   "execution_count": 67,
   "metadata": {
    "collapsed": false
   },
   "outputs": [
    {
     "name": "stdout",
     "output_type": "stream",
     "text": [
      "{'Collection URI': ' http://gallery.its.unimelb.edu.au/imu/imu.php?request=load&irn=115190&ecatalogue=on&view=details', 'Description': ' press statement', 'Format': ' Uncorrected OCR text', 'Title': ' Commonwealth ban on export of birds', 'Collection': ' John Malcolm Fraser, 2007.0023', 'Date': ' 20/12/1959'}\n"
     ]
    }
   ],
   "source": [
    "dictionary={}#dictionary\n",
    "for line in data[0].split('\\r\\n'):\n",
    "    if not line: #empty line\n",
    "        continue\n",
    "    if line[0]=='<':\n",
    "        continue\n",
    "    element=line.split(':',1)\n",
    "    #key=element[0] # first part\n",
    "    #value=element[-1] #last part\n",
    "    \n",
    "    dictionary[element[0]]=element[-1]\n",
    "    \n",
    "print  dictionary"
   ]
  },
  {
   "cell_type": "code",
   "execution_count": 74,
   "metadata": {
    "collapsed": false
   },
   "outputs": [
    {
     "data": {
      "text/plain": [
       "[('Collection URI',\n",
       "  ' http://gallery.its.unimelb.edu.au/imu/imu.php?request=load&irn=115190&ecatalogue=on&view=details'),\n",
       " ('Description', ' press statement'),\n",
       " ('Format', ' Uncorrected OCR text'),\n",
       " ('Title', ' Commonwealth ban on export of birds'),\n",
       " ('Collection', ' John Malcolm Fraser, 2007.0023'),\n",
       " ('Date', ' 20/12/1959')]"
      ]
     },
     "execution_count": 74,
     "metadata": {},
     "output_type": "execute_result"
    }
   ],
   "source": [
    "dictionary.items()"
   ]
  },
  {
   "cell_type": "code",
   "execution_count": 75,
   "metadata": {
    "collapsed": false
   },
   "outputs": [
    {
     "name": "stdout",
     "output_type": "stream",
     "text": [
      "Key: Collection URI\n",
      "value:  http://gallery.its.unimelb.edu.au/imu/imu.php?request=load&irn=115190&ecatalogue=on&view=details\n",
      "Key: Description\n",
      "value:  press statement\n",
      "Key: Format\n",
      "value:  Uncorrected OCR text\n",
      "Key: Title\n",
      "value:  Commonwealth ban on export of birds\n",
      "Key: Collection\n",
      "value:  John Malcolm Fraser, 2007.0023\n",
      "Key: Date\n",
      "value:  20/12/1959\n"
     ]
    }
   ],
   "source": [
    "for k,v in dictionary.items():\n",
    "    print 'Key:',k\n",
    "    print 'value:',v"
   ]
  },
  {
   "cell_type": "code",
   "execution_count": 76,
   "metadata": {
    "collapsed": false
   },
   "outputs": [
    {
     "data": {
      "text/plain": [
       "['Format', ' Uncorrected OCR text']"
      ]
     },
     "execution_count": 76,
     "metadata": {},
     "output_type": "execute_result"
    }
   ],
   "source": [
    "element"
   ]
  },
  {
   "cell_type": "code",
   "execution_count": 78,
   "metadata": {
    "collapsed": false
   },
   "outputs": [
    {
     "name": "stdout",
     "output_type": "stream",
     "text": [
      "Format  Uncorrected OCR text\n"
     ]
    }
   ],
   "source": [
    "print element[0] + ' ' + element[-1]"
   ]
  },
  {
   "cell_type": "markdown",
   "metadata": {},
   "source": [
    "# Building Functions"
   ]
  },
  {
   "cell_type": "code",
   "execution_count": 83,
   "metadata": {
    "collapsed": false
   },
   "outputs": [],
   "source": [
    "def parse_metadata(text):\n",
    "    metadata={}    #empty dictionary\n",
    "    for line in text.split('\\r\\n'):\n",
    "        if not line: #empty line\n",
    "            continue\n",
    "        if line[0]=='<':\n",
    "            continue\n",
    "        element=line.split(':',1)\n",
    "        metadata[element[0]]=element[-1] #first element and last element\n",
    "    return metadata"
   ]
  },
  {
   "cell_type": "code",
   "execution_count": 85,
   "metadata": {
    "collapsed": false
   },
   "outputs": [],
   "source": [
    "metadata=parse_metadata(data[0])"
   ]
  },
  {
   "cell_type": "code",
   "execution_count": 86,
   "metadata": {
    "collapsed": false
   },
   "outputs": [
    {
     "data": {
      "text/plain": [
       "{'Collection': ' John Malcolm Fraser, 2007.0023',\n",
       " 'Collection URI': ' http://gallery.its.unimelb.edu.au/imu/imu.php?request=load&irn=115190&ecatalogue=on&view=details',\n",
       " 'Date': ' 20/12/1959',\n",
       " 'Description': ' press statement',\n",
       " 'Format': ' Uncorrected OCR text',\n",
       " 'Title': ' Commonwealth ban on export of birds'}"
      ]
     },
     "execution_count": 86,
     "metadata": {},
     "output_type": "execute_result"
    }
   ],
   "source": [
    "metadata"
   ]
  },
  {
   "cell_type": "code",
   "execution_count": 117,
   "metadata": {
    "collapsed": true
   },
   "outputs": [],
   "source": [
    "data=open(os.path.join(corpus_path,'UDS2013680-100-full.txt'))"
   ]
  },
  {
   "cell_type": "code",
   "execution_count": 108,
   "metadata": {
    "collapsed": false
   },
   "outputs": [
    {
     "data": {
      "text/plain": [
       "<open file 'UMA_Fraser_Radio_Talks/UDS2013680-100-full.txt', mode 'r' at 0x321f540>"
      ]
     },
     "execution_count": 108,
     "metadata": {},
     "output_type": "execute_result"
    }
   ],
   "source": [
    "data"
   ]
  },
  {
   "cell_type": "code",
   "execution_count": 118,
   "metadata": {
    "collapsed": false
   },
   "outputs": [],
   "source": [
    "data=data.read()  #data.read().split()"
   ]
  },
  {
   "cell_type": "code",
   "execution_count": 110,
   "metadata": {
    "collapsed": false
   },
   "outputs": [
    {
     "data": {
      "text/plain": [
       "str"
      ]
     },
     "execution_count": 110,
     "metadata": {},
     "output_type": "execute_result"
    }
   ],
   "source": [
    "type(data1)"
   ]
  },
  {
   "cell_type": "code",
   "execution_count": 119,
   "metadata": {
    "collapsed": false
   },
   "outputs": [
    {
     "data": {
      "text/plain": [
       "'<!--start metadata-->\\r\\nTitle: Portland wool sales\\r\\nDescription: press statement\\r\\nDate: 2/04/1963\\r\\nCollection: John Malcolm Fraser, 2007.0023\\r\\nCollection URI: http://gallery.its.unimelb.edu.au/imu/imu.php?request=load&irn=115190&ecatalogue=on&view=details\\r\\nFormat: Uncorrected OCR text\\r\\n<!--end metadata-->\\r\\n\\r\\n\\r\\n             PRESS STATEMENT ISSUED BY\\r\\n           MALCOLM FRASER, M.P. FOR WANNON.\\r\\n\\r\\n         I warmly welcome the announcement by the Premier of Victoria \\r\\n    that he is going to legislate to settle the Portland Wool Sales \\r\\n    dispute. The field of negotiation is clearly exhausted. Everyone \\r\\n    has tried to solve this question by negotiation, particularly the \\r\\n    Premier, who had a final meeting with the Woolbuyers about 4 weeks \\r\\n    ago. We all thought, as a result of this meeting, the Buyers might \\r\\n    sensibly revise their policy at a recent Annual Meeting that they \\r\\n    have just held. Instead, the Buyers re-affirmed their opposition \\r\\n    and boycott of Portland, ignored the wishes of the three major \\r\\n    Woolgrowing organisations, the determination of people in Western\\r\\n411 Victoria to develop Portland, and finally, the authority and power \\r\\n    of the State Government.\\r\\n\\r\\n        It was quite clear that the Buyers could not be allowed to \\r\\n    win. They could not be allowed to thwart the development of an \\r\\n    important area of Australia purely in defence of sectional interests, \\r\\n    especially so since the whole case had been judged by an impartial \\r\\n    economic inquiry which could not have supported Portland more strongly \\r\\n    than it did.\\r\\n\\r\\n        I am sure this legislation will have the strongest support\\r\\n\\x95   from the three major Woolgrowing organisations. Recently, they have \\r\\n    been co-operating very well together and planning joint moves in \\r\\n    efforts to settle the dispute. In part, at least, the decision to \\r\\n    legislate arises from this co-operation of the Woolgrowing organisa- \\r\\n   tions. It is an indication of the influence they can have when \\r\\n   they are pulling together and striving for the same objectives. \\r\\n\\r\\n        Having exhausted negotiation, the Premier has grasped the \\r\\n   one remaining alternative to him firmly and with determination. \\r\\n   The legislative powers of the State are to be used and these_ powers \\r\\n   are great and extensive.\\r\\n\\r\\n        It is worth recording that, in New South Wales, when the\\r\\n   Buyers tried to close down an existing centre, a similar situation \\r\\n   arose. Mr. Justice Cooke, who held an exhaustive inquiry,\\r\\n   recommended legislation to break the ban. The Graziers\\' Association\\r\\n\\x0c\\r\\n                                  -2-\\r\\n     of New South Wales went so far as to prepare a draft Bill. Even the\\r\\n     Brokers of New South Wales recognised that the ban could only be \\r\\n     broken by legislation.\\r\\n             In broad terms, the Bill that it had been proposed to intro- \\r\\n     duce in New South Wales was called the \"Wool Selling Centres \\r\\n     Protection Act.\" The selling centres were all named and any act \\r\\n     undertaken by any person or group in restraint of trade at any centre\\r\\n     was going to be illegal with very heavy penalties -- la1s-see-iatiog\\r\\n\\r\\n             While I do not know anything about the details of the pro-\\r\\n.    posed Victorian Act, it has been announced that it will follow \\r\\n     somewhat similar lines. It is worth noting that the New South Wales \\r\\n     legislation did not attempt to dictate to Buyers. It did not say \\r\\n     to them as individuals - \"You must go to Goulburn.\" It did not tell \\r\\n     them as individuals that they had to bid. It merely made it \\r\\n     impossible for organised boycott to be maintained and once the boy- \\r\\n     cott was broken, the normal market forces were allowed to operate. \\r\\n     Buyers, following their own economic interest, attended Goulburn \\r\\n     sales. It will be interesting to see how the situation develops \\r\\n     in Victoria.\\r\\n             The Premier\\'s decision to legislate may have other reper- \\r\\n     cussions that will further assist Portland\\'s development. It is \\r\\n     possible that some Woolbroking firms have been waiting to see how \\r\\n     the Buyers\\' ban would be handled before deciding whether or not \\r\\n     they should go to Portland. Now that they know that the State \\r\\n     Government is prepared to use its full legislative power to make \\r\\n     the sales a success, there may be decisions by other Broking \\r\\n     Companies about Portland.\\r\\n             While I hope many people will remain loyal to Portland \\r\\n     Woolbrokers as the pioneer Broking firm in this particular matter, \\r\\n     there is no doubt that the best interests of Portland as a Wool \\r\\n     Selling centre will be served if there is more than one Broking \\r\\n     firm operating.\\r\\n\\x0c\\r\\nt\\r\\n\\r\\n\\r\\n              -3-\\r\\n    The Woolgrowers\\' deputation which was elected following \\r\\n the failure of the first sale has, I believe, played a useful part \\r\\n throughout this whole matter. It has been active right up to the \\r\\n present stage in trying to seek means of ending the dispute \\r\\n successfully.\\r\\n    I personally wish to thank all members of the deputation \\r\\n for their co-operation, assistance and support.\\r\\n    The deputation has discussed the kind of legislation\\r\\n enacted in New South Wales and certainly it gives the fullest support \\r\\n to the Premier\\'s latest move. We now all hope that once the \\r\\n legislation is passed, no further obstacles will be placed in the \\r\\n way of Portland\\'s development as a Wool Selling centre. The other \\r\\n members of the deputation were Mr. R. McClure of Harrow, Mr. D. \\r\\n Cameron of Pigeon Ponds, Councillor C. Rochefort of Dunkeld and \\r\\n Mr. R. Malseed of Mount Gambier.\\r\\n\\r\\n\\r\\n\\r\\n CANBERRA, A.C.T. \\r\\n  2nd April, 1963.\\r\\n\\x0c\\r\\n'"
      ]
     },
     "execution_count": 119,
     "metadata": {},
     "output_type": "execute_result"
    }
   ],
   "source": [
    "data"
   ]
  },
  {
   "cell_type": "code",
   "execution_count": 121,
   "metadata": {
    "collapsed": false
   },
   "outputs": [],
   "source": [
    "data1=data.split('<!--end metadata-->')"
   ]
  },
  {
   "cell_type": "code",
   "execution_count": 122,
   "metadata": {
    "collapsed": false
   },
   "outputs": [
    {
     "name": "stdout",
     "output_type": "stream",
     "text": [
      "['<!--start metadata-->\\r\\nTitle: Portland wool sales\\r\\nDescription: press statement\\r\\nDate: 2/04/1963\\r\\nCollection: John Malcolm Fraser, 2007.0023\\r\\nCollection URI: http://gallery.its.unimelb.edu.au/imu/imu.php?request=load&irn=115190&ecatalogue=on&view=details\\r\\nFormat: Uncorrected OCR text\\r\\n', '\\r\\n\\r\\n\\r\\n             PRESS STATEMENT ISSUED BY\\r\\n           MALCOLM FRASER, M.P. FOR WANNON.\\r\\n\\r\\n         I warmly welcome the announcement by the Premier of Victoria \\r\\n    that he is going to legislate to settle the Portland Wool Sales \\r\\n    dispute. The field of negotiation is clearly exhausted. Everyone \\r\\n    has tried to solve this question by negotiation, particularly the \\r\\n    Premier, who had a final meeting with the Woolbuyers about 4 weeks \\r\\n    ago. We all thought, as a result of this meeting, the Buyers might \\r\\n    sensibly revise their policy at a recent Annual Meeting that they \\r\\n    have just held. Instead, the Buyers re-affirmed their opposition \\r\\n    and boycott of Portland, ignored the wishes of the three major \\r\\n    Woolgrowing organisations, the determination of people in Western\\r\\n411 Victoria to develop Portland, and finally, the authority and power \\r\\n    of the State Government.\\r\\n\\r\\n        It was quite clear that the Buyers could not be allowed to \\r\\n    win. They could not be allowed to thwart the development of an \\r\\n    important area of Australia purely in defence of sectional interests, \\r\\n    especially so since the whole case had been judged by an impartial \\r\\n    economic inquiry which could not have supported Portland more strongly \\r\\n    than it did.\\r\\n\\r\\n        I am sure this legislation will have the strongest support\\r\\n\\x95   from the three major Woolgrowing organisations. Recently, they have \\r\\n    been co-operating very well together and planning joint moves in \\r\\n    efforts to settle the dispute. In part, at least, the decision to \\r\\n    legislate arises from this co-operation of the Woolgrowing organisa- \\r\\n   tions. It is an indication of the influence they can have when \\r\\n   they are pulling together and striving for the same objectives. \\r\\n\\r\\n        Having exhausted negotiation, the Premier has grasped the \\r\\n   one remaining alternative to him firmly and with determination. \\r\\n   The legislative powers of the State are to be used and these_ powers \\r\\n   are great and extensive.\\r\\n\\r\\n        It is worth recording that, in New South Wales, when the\\r\\n   Buyers tried to close down an existing centre, a similar situation \\r\\n   arose. Mr. Justice Cooke, who held an exhaustive inquiry,\\r\\n   recommended legislation to break the ban. The Graziers\\' Association\\r\\n\\x0c\\r\\n                                  -2-\\r\\n     of New South Wales went so far as to prepare a draft Bill. Even the\\r\\n     Brokers of New South Wales recognised that the ban could only be \\r\\n     broken by legislation.\\r\\n             In broad terms, the Bill that it had been proposed to intro- \\r\\n     duce in New South Wales was called the \"Wool Selling Centres \\r\\n     Protection Act.\" The selling centres were all named and any act \\r\\n     undertaken by any person or group in restraint of trade at any centre\\r\\n     was going to be illegal with very heavy penalties -- la1s-see-iatiog\\r\\n\\r\\n             While I do not know anything about the details of the pro-\\r\\n.    posed Victorian Act, it has been announced that it will follow \\r\\n     somewhat similar lines. It is worth noting that the New South Wales \\r\\n     legislation did not attempt to dictate to Buyers. It did not say \\r\\n     to them as individuals - \"You must go to Goulburn.\" It did not tell \\r\\n     them as individuals that they had to bid. It merely made it \\r\\n     impossible for organised boycott to be maintained and once the boy- \\r\\n     cott was broken, the normal market forces were allowed to operate. \\r\\n     Buyers, following their own economic interest, attended Goulburn \\r\\n     sales. It will be interesting to see how the situation develops \\r\\n     in Victoria.\\r\\n             The Premier\\'s decision to legislate may have other reper- \\r\\n     cussions that will further assist Portland\\'s development. It is \\r\\n     possible that some Woolbroking firms have been waiting to see how \\r\\n     the Buyers\\' ban would be handled before deciding whether or not \\r\\n     they should go to Portland. Now that they know that the State \\r\\n     Government is prepared to use its full legislative power to make \\r\\n     the sales a success, there may be decisions by other Broking \\r\\n     Companies about Portland.\\r\\n             While I hope many people will remain loyal to Portland \\r\\n     Woolbrokers as the pioneer Broking firm in this particular matter, \\r\\n     there is no doubt that the best interests of Portland as a Wool \\r\\n     Selling centre will be served if there is more than one Broking \\r\\n     firm operating.\\r\\n\\x0c\\r\\nt\\r\\n\\r\\n\\r\\n              -3-\\r\\n    The Woolgrowers\\' deputation which was elected following \\r\\n the failure of the first sale has, I believe, played a useful part \\r\\n throughout this whole matter. It has been active right up to the \\r\\n present stage in trying to seek means of ending the dispute \\r\\n successfully.\\r\\n    I personally wish to thank all members of the deputation \\r\\n for their co-operation, assistance and support.\\r\\n    The deputation has discussed the kind of legislation\\r\\n enacted in New South Wales and certainly it gives the fullest support \\r\\n to the Premier\\'s latest move. We now all hope that once the \\r\\n legislation is passed, no further obstacles will be placed in the \\r\\n way of Portland\\'s development as a Wool Selling centre. The other \\r\\n members of the deputation were Mr. R. McClure of Harrow, Mr. D. \\r\\n Cameron of Pigeon Ponds, Councillor C. Rochefort of Dunkeld and \\r\\n Mr. R. Malseed of Mount Gambier.\\r\\n\\r\\n\\r\\n\\r\\n CANBERRA, A.C.T. \\r\\n  2nd April, 1963.\\r\\n\\x0c\\r\\n']\n"
     ]
    }
   ],
   "source": [
    "print data1"
   ]
  },
  {
   "cell_type": "code",
   "execution_count": 123,
   "metadata": {
    "collapsed": false
   },
   "outputs": [
    {
     "data": {
      "text/plain": [
       "['<!--start metadata-->\\r\\nTitle: Portland wool sales\\r\\nDescription: press statement\\r\\nDate: 2/04/1963\\r\\nCollection: John Malcolm Fraser, 2007.0023\\r\\nCollection URI: http://gallery.its.unimelb.edu.au/imu/imu.php?request=load&irn=115190&ecatalogue=on&view=details\\r\\nFormat: Uncorrected OCR text\\r\\n',\n",
       " '\\r\\n\\r\\n\\r\\n             PRESS STATEMENT ISSUED BY\\r\\n           MALCOLM FRASER, M.P. FOR WANNON.\\r\\n\\r\\n         I warmly welcome the announcement by the Premier of Victoria \\r\\n    that he is going to legislate to settle the Portland Wool Sales \\r\\n    dispute. The field of negotiation is clearly exhausted. Everyone \\r\\n    has tried to solve this question by negotiation, particularly the \\r\\n    Premier, who had a final meeting with the Woolbuyers about 4 weeks \\r\\n    ago. We all thought, as a result of this meeting, the Buyers might \\r\\n    sensibly revise their policy at a recent Annual Meeting that they \\r\\n    have just held. Instead, the Buyers re-affirmed their opposition \\r\\n    and boycott of Portland, ignored the wishes of the three major \\r\\n    Woolgrowing organisations, the determination of people in Western\\r\\n411 Victoria to develop Portland, and finally, the authority and power \\r\\n    of the State Government.\\r\\n\\r\\n        It was quite clear that the Buyers could not be allowed to \\r\\n    win. They could not be allowed to thwart the development of an \\r\\n    important area of Australia purely in defence of sectional interests, \\r\\n    especially so since the whole case had been judged by an impartial \\r\\n    economic inquiry which could not have supported Portland more strongly \\r\\n    than it did.\\r\\n\\r\\n        I am sure this legislation will have the strongest support\\r\\n\\x95   from the three major Woolgrowing organisations. Recently, they have \\r\\n    been co-operating very well together and planning joint moves in \\r\\n    efforts to settle the dispute. In part, at least, the decision to \\r\\n    legislate arises from this co-operation of the Woolgrowing organisa- \\r\\n   tions. It is an indication of the influence they can have when \\r\\n   they are pulling together and striving for the same objectives. \\r\\n\\r\\n        Having exhausted negotiation, the Premier has grasped the \\r\\n   one remaining alternative to him firmly and with determination. \\r\\n   The legislative powers of the State are to be used and these_ powers \\r\\n   are great and extensive.\\r\\n\\r\\n        It is worth recording that, in New South Wales, when the\\r\\n   Buyers tried to close down an existing centre, a similar situation \\r\\n   arose. Mr. Justice Cooke, who held an exhaustive inquiry,\\r\\n   recommended legislation to break the ban. The Graziers\\' Association\\r\\n\\x0c\\r\\n                                  -2-\\r\\n     of New South Wales went so far as to prepare a draft Bill. Even the\\r\\n     Brokers of New South Wales recognised that the ban could only be \\r\\n     broken by legislation.\\r\\n             In broad terms, the Bill that it had been proposed to intro- \\r\\n     duce in New South Wales was called the \"Wool Selling Centres \\r\\n     Protection Act.\" The selling centres were all named and any act \\r\\n     undertaken by any person or group in restraint of trade at any centre\\r\\n     was going to be illegal with very heavy penalties -- la1s-see-iatiog\\r\\n\\r\\n             While I do not know anything about the details of the pro-\\r\\n.    posed Victorian Act, it has been announced that it will follow \\r\\n     somewhat similar lines. It is worth noting that the New South Wales \\r\\n     legislation did not attempt to dictate to Buyers. It did not say \\r\\n     to them as individuals - \"You must go to Goulburn.\" It did not tell \\r\\n     them as individuals that they had to bid. It merely made it \\r\\n     impossible for organised boycott to be maintained and once the boy- \\r\\n     cott was broken, the normal market forces were allowed to operate. \\r\\n     Buyers, following their own economic interest, attended Goulburn \\r\\n     sales. It will be interesting to see how the situation develops \\r\\n     in Victoria.\\r\\n             The Premier\\'s decision to legislate may have other reper- \\r\\n     cussions that will further assist Portland\\'s development. It is \\r\\n     possible that some Woolbroking firms have been waiting to see how \\r\\n     the Buyers\\' ban would be handled before deciding whether or not \\r\\n     they should go to Portland. Now that they know that the State \\r\\n     Government is prepared to use its full legislative power to make \\r\\n     the sales a success, there may be decisions by other Broking \\r\\n     Companies about Portland.\\r\\n             While I hope many people will remain loyal to Portland \\r\\n     Woolbrokers as the pioneer Broking firm in this particular matter, \\r\\n     there is no doubt that the best interests of Portland as a Wool \\r\\n     Selling centre will be served if there is more than one Broking \\r\\n     firm operating.\\r\\n\\x0c\\r\\nt\\r\\n\\r\\n\\r\\n              -3-\\r\\n    The Woolgrowers\\' deputation which was elected following \\r\\n the failure of the first sale has, I believe, played a useful part \\r\\n throughout this whole matter. It has been active right up to the \\r\\n present stage in trying to seek means of ending the dispute \\r\\n successfully.\\r\\n    I personally wish to thank all members of the deputation \\r\\n for their co-operation, assistance and support.\\r\\n    The deputation has discussed the kind of legislation\\r\\n enacted in New South Wales and certainly it gives the fullest support \\r\\n to the Premier\\'s latest move. We now all hope that once the \\r\\n legislation is passed, no further obstacles will be placed in the \\r\\n way of Portland\\'s development as a Wool Selling centre. The other \\r\\n members of the deputation were Mr. R. McClure of Harrow, Mr. D. \\r\\n Cameron of Pigeon Ponds, Councillor C. Rochefort of Dunkeld and \\r\\n Mr. R. Malseed of Mount Gambier.\\r\\n\\r\\n\\r\\n\\r\\n CANBERRA, A.C.T. \\r\\n  2nd April, 1963.\\r\\n\\x0c\\r\\n']"
      ]
     },
     "execution_count": 123,
     "metadata": {},
     "output_type": "execute_result"
    }
   ],
   "source": [
    "data1"
   ]
  },
  {
   "cell_type": "code",
   "execution_count": 125,
   "metadata": {
    "collapsed": false
   },
   "outputs": [
    {
     "data": {
      "text/plain": [
       "{'Collection': ' John Malcolm Fraser, 2007.0023',\n",
       " 'Collection URI': ' http://gallery.its.unimelb.edu.au/imu/imu.php?request=load&irn=115190&ecatalogue=on&view=details',\n",
       " 'Date': ' 2/04/1963',\n",
       " 'Description': ' press statement',\n",
       " 'Format': ' Uncorrected OCR text',\n",
       " 'Title': ' Portland wool sales'}"
      ]
     },
     "execution_count": 125,
     "metadata": {},
     "output_type": "execute_result"
    }
   ],
   "source": [
    "parse_metadata(data1[0])"
   ]
  },
  {
   "cell_type": "code",
   "execution_count": 129,
   "metadata": {
    "collapsed": false
   },
   "outputs": [],
   "source": [
    "from nltk.probability import ConditionalFreqDist\n",
    "import matplotlib\n",
    "%matplotlib inline \n",
    "#tell notebook to insert graphics "
   ]
  },
  {
   "cell_type": "code",
   "execution_count": null,
   "metadata": {
    "collapsed": true
   },
   "outputs": [],
   "source": [
    "cfdist=ConditionalFreqDist()"
   ]
  },
  {
   "cell_type": "code",
   "execution_count": 130,
   "metadata": {
    "collapsed": true
   },
   "outputs": [],
   "source": [
    "cfdist."
   ]
  },
  {
   "cell_type": "code",
   "execution_count": 138,
   "metadata": {
    "collapsed": false
   },
   "outputs": [
    {
     "data": {
      "image/png": "[encoded data removed]",
      "text/plain": [
       "<matplotlib.figure.Figure at 0x467c290>"
      ]
     },
     "metadata": {},
     "output_type": "display_data"
    }
   ],
   "source": [
    "cfdist=ConditionalFreqDist()\n",
    "metadata={} #clean metadat\n",
    "for filename in os.listdir(corpus_path):\n",
    "    text=open(os.path.join(corpus_path,filename)).read() #open and read file in one line\n",
    "    text=text.split('<!-- end metadata -->')\n",
    "    metadata=parse_metadata(text[0])\n",
    "    if metadata['Date'][0]=='c':\n",
    "        continue\n",
    "    cfdist['count'][metadata['Date'].split('/')[-1]] += 1 #counter per year and stores in a list \n",
    "cfdist.plot()"
   ]
  },
  {
   "cell_type": "code",
   "execution_count": 139,
   "metadata": {
    "collapsed": false
   },
   "outputs": [
    {
     "data": {
      "text/plain": [
       "[('count',\n",
       "  Counter({'1954': 15,\n",
       "           '1956': 16,\n",
       "           '1957': 35,\n",
       "           '1958': 31,\n",
       "           '1959': 40,\n",
       "           '1960': 40,\n",
       "           '1961': 41,\n",
       "           '1962': 31,\n",
       "           '1963': 46,\n",
       "           '1964': 44,\n",
       "           '1965': 38,\n",
       "           '1966': 3,\n",
       "           '1967': 89,\n",
       "           '1968': 19,\n",
       "           '1969': 8,\n",
       "           '1970': 24,\n",
       "           '1971': 26,\n",
       "           '1972': 42,\n",
       "           '1973': 32,\n",
       "           '1974': 18,\n",
       "           '1975': 37,\n",
       "           '1981': 20,\n",
       "           '1982': 23}))]"
      ]
     },
     "execution_count": 139,
     "metadata": {},
     "output_type": "execute_result"
    }
   ],
   "source": [
    "cfdist.items()"
   ]
  },
  {
   "cell_type": "code",
   "execution_count": 137,
   "metadata": {
    "collapsed": true
   },
   "outputs": [],
   "source": [
    "def parse_metadata(text):\n",
    "    metadata={}    #empty dictionary\n",
    "    for line in text.split('\\r\\n'):\n",
    "        if not line: #empty line\n",
    "            continue\n",
    "        if line[0]=='<':\n",
    "            continue\n",
    "        element=line.split(':',1)\n",
    "        metadata[element[0]]=element[-1].strip(' ') #first element and last element and STRIP the blank spaces (NEW)\n",
    "    return metadata"
   ]
  },
  {
   "cell_type": "code",
   "execution_count": 141,
   "metadata": {
    "collapsed": false
   },
   "outputs": [
    {
     "data": {
      "image/png": "[encoded data removed]",
      "text/plain": [
       "<matplotlib.figure.Figure at 0x4a3fc50>"
      ]
     },
     "metadata": {},
     "output_type": "display_data"
    }
   ],
   "source": [
    "cfdist2=ConditionalFreqDist()\n",
    "metadata={}\n",
    "for filename in os.listdir(corpus_path):\n",
    "    text=open(os.path.join(corpus_path, filename)).read()\n",
    "    text=text.split('<!-- end metadata -->')\n",
    "    metadata=parse_metadata(text[0]) #just metadata ergo text[0]\n",
    "    if metadata['Date'][0]=='c':\n",
    "        continue\n",
    "    cfdist2['count'][metadata['Description']]+=1\n",
    "cfdist2.plot()"
   ]
  },
  {
   "cell_type": "code",
   "execution_count": 142,
   "metadata": {
    "collapsed": false
   },
   "outputs": [
    {
     "data": {
      "text/plain": [
       "defaultdict(nltk.probability.FreqDist,\n",
       "            {'count': Counter({'Broadcast': 11,\n",
       "                      'Draft radio broadcast': 1,\n",
       "                      'Electoral radio talk': 2,\n",
       "                      'Electoral statement': 23,\n",
       "                      'Electorate talks': 6,\n",
       "                      'For press': 5,\n",
       "                      'Press release': 7,\n",
       "                      'Radio 3HA and 3YB - radio talk': 51,\n",
       "                      'Radio broadcast': 77,\n",
       "                      'Radio talk': 30,\n",
       "                      'Reports on proceedings in Canberra - radio talk': 7,\n",
       "                      'Statement': 1,\n",
       "                      'United States visit 1964 - press statement': 15,\n",
       "                      'draft electorate talk': 1,\n",
       "                      'electoral talk': 56,\n",
       "                      'electorate radio talk': 3,\n",
       "                      'press statement': 283,\n",
       "                      'press statements sent to electorate newspapers': 61,\n",
       "                      'radio talk': 39,\n",
       "                      'radio talk, first campaign given over 3HA for the May 1954 election': 15,\n",
       "                      'radio talks': 24})})"
      ]
     },
     "execution_count": 142,
     "metadata": {},
     "output_type": "execute_result"
    }
   ],
   "source": [
    "cfdist2"
   ]
  },
  {
   "cell_type": "code",
   "execution_count": 154,
   "metadata": {
    "collapsed": false
   },
   "outputs": [
    {
     "data": {
      "image/png": "[encoded data removed]",
      "text/plain": [
       "<matplotlib.figure.Figure at 0x5964c10>"
      ]
     },
     "metadata": {},
     "output_type": "display_data"
    }
   ],
   "source": [
    "cfdist3=ConditionalFreqDist()\n",
    "metadata={} #clean metadata\n",
    "for filename in os.listdir(corpus_path):\n",
    "    text=open(os.path.join(corpus_path,filename)).read() #open and read file in one line\n",
    "    text=text.split('<!-- end metadata -->')\n",
    "    metadata=parse_metadata(text[0])\n",
    "    if 'c' in metadata['Date'][0]:\n",
    "        #print metadata['Date'][-4:]\n",
    "        cfdist3['count'][metadata['Date'][-4:]] += 1        \n",
    "    else:\n",
    "        cfdist3['count'][metadata['Date'].split('/')[-1]] += 1 #counter per year and stores in a list \n",
    "\n",
    "cfdist3.plot()"
   ]
  },
  {
   "cell_type": "code",
   "execution_count": 156,
   "metadata": {
    "collapsed": false
   },
   "outputs": [
    {
     "data": {
      "image/png": "[encoded data removed]",
      "text/plain": [
       "<matplotlib.figure.Figure at 0x564b090>"
      ]
     },
     "metadata": {},
     "output_type": "display_data"
    }
   ],
   "source": [
    "cfdist4=ConditionalFreqDist() \n",
    "metadata={} #clean metadata   ##better way !!!\n",
    "for filename in os.listdir(corpus_path):\n",
    "    text=open(os.path.join(corpus_path,filename)).read() #open and read file in one line\n",
    "    text=text.split('<!-- end metadata -->')\n",
    "    metadata=parse_metadata(text[0])\n",
    "    date=metadata['Date']\n",
    "    year=date[-4:]\n",
    "    cfdist4['count'][year] += 1 #counter per year and stores in a list \n",
    "\n",
    "cfdist4.plot()"
   ]
  },
  {
   "cell_type": "code",
   "execution_count": 162,
   "metadata": {
    "collapsed": false
   },
   "outputs": [
    {
     "name": "stdout",
     "output_type": "stream",
     "text": [
      "[nltk_data] Downloading collection u'all'\n",
      "[nltk_data]    | \n",
      "[nltk_data]    | Downloading package abc to\n",
      "[nltk_data]    |     /home/researcher/nltk_data...\n",
      "[nltk_data]    |   Package abc is already up-to-date!\n",
      "[nltk_data]    | Downloading package alpino to\n",
      "[nltk_data]    |     /home/researcher/nltk_data...\n",
      "[nltk_data]    |   Package alpino is already up-to-date!\n",
      "[nltk_data]    | Downloading package biocreative_ppi to\n",
      "[nltk_data]    |     /home/researcher/nltk_data...\n",
      "[nltk_data]    |   Package biocreative_ppi is already up-to-date!\n",
      "[nltk_data]    | Downloading package brown to\n",
      "[nltk_data]    |     /home/researcher/nltk_data...\n",
      "[nltk_data]    |   Package brown is already up-to-date!\n",
      "[nltk_data]    | Downloading package brown_tei to\n",
      "[nltk_data]    |     /home/researcher/nltk_data...\n",
      "[nltk_data]    |   Package brown_tei is already up-to-date!\n",
      "[nltk_data]    | Downloading package cess_cat to\n",
      "[nltk_data]    |     /home/researcher/nltk_data...\n",
      "[nltk_data]    |   Package cess_cat is already up-to-date!\n",
      "[nltk_data]    | Downloading package cess_esp to\n",
      "[nltk_data]    |     /home/researcher/nltk_data...\n",
      "[nltk_data]    |   Package cess_esp is already up-to-date!\n",
      "[nltk_data]    | Downloading package chat80 to\n",
      "[nltk_data]    |     /home/researcher/nltk_data...\n",
      "[nltk_data]    |   Package chat80 is already up-to-date!\n",
      "[nltk_data]    | Downloading package city_database to\n",
      "[nltk_data]    |     /home/researcher/nltk_data...\n",
      "[nltk_data]    |   Package city_database is already up-to-date!\n",
      "[nltk_data]    | Downloading package cmudict to\n",
      "[nltk_data]    |     /home/researcher/nltk_data...\n",
      "[nltk_data]    |   Package cmudict is already up-to-date!\n",
      "[nltk_data]    | Downloading package comparative_sentences to\n",
      "[nltk_data]    |     /home/researcher/nltk_data...\n",
      "[nltk_data]    |   Package comparative_sentences is already up-to-\n",
      "[nltk_data]    |       date!\n",
      "[nltk_data]    | Downloading package comtrans to\n",
      "[nltk_data]    |     /home/researcher/nltk_data...\n",
      "[nltk_data]    |   Package comtrans is already up-to-date!\n",
      "[nltk_data]    | Downloading package conll2000 to\n",
      "[nltk_data]    |     /home/researcher/nltk_data...\n",
      "[nltk_data]    |   Package conll2000 is already up-to-date!\n",
      "[nltk_data]    | Downloading package conll2002 to\n",
      "[nltk_data]    |     /home/researcher/nltk_data...\n",
      "[nltk_data]    |   Package conll2002 is already up-to-date!\n",
      "[nltk_data]    | Downloading package conll2007 to\n",
      "[nltk_data]    |     /home/researcher/nltk_data...\n",
      "[nltk_data]    |   Package conll2007 is already up-to-date!\n",
      "[nltk_data]    | Downloading package crubadan to\n",
      "[nltk_data]    |     /home/researcher/nltk_data...\n",
      "[nltk_data]    |   Package crubadan is already up-to-date!\n",
      "[nltk_data]    | Downloading package dependency_treebank to\n",
      "[nltk_data]    |     /home/researcher/nltk_data...\n",
      "[nltk_data]    |   Package dependency_treebank is already up-to-date!\n",
      "[nltk_data]    | Downloading package europarl_raw to\n",
      "[nltk_data]    |     /home/researcher/nltk_data...\n",
      "[nltk_data]    |   Package europarl_raw is already up-to-date!\n",
      "[nltk_data]    | Downloading package floresta to\n",
      "[nltk_data]    |     /home/researcher/nltk_data...\n",
      "[nltk_data]    |   Package floresta is already up-to-date!\n",
      "[nltk_data]    | Downloading package framenet_v15 to\n",
      "[nltk_data]    |     /home/researcher/nltk_data...\n",
      "[nltk_data]    |   Package framenet_v15 is already up-to-date!\n",
      "[nltk_data]    | Downloading package gazetteers to\n",
      "[nltk_data]    |     /home/researcher/nltk_data...\n",
      "[nltk_data]    |   Package gazetteers is already up-to-date!\n",
      "[nltk_data]    | Downloading package genesis to\n",
      "[nltk_data]    |     /home/researcher/nltk_data...\n",
      "[nltk_data]    |   Package genesis is already up-to-date!\n",
      "[nltk_data]    | Downloading package gutenberg to\n",
      "[nltk_data]    |     /home/researcher/nltk_data...\n",
      "[nltk_data]    |   Package gutenberg is already up-to-date!\n",
      "[nltk_data]    | Downloading package ieer to\n",
      "[nltk_data]    |     /home/researcher/nltk_data...\n",
      "[nltk_data]    |   Package ieer is already up-to-date!\n",
      "[nltk_data]    | Downloading package inaugural to\n",
      "[nltk_data]    |     /home/researcher/nltk_data...\n",
      "[nltk_data]    |   Package inaugural is already up-to-date!\n",
      "[nltk_data]    | Downloading package indian to\n",
      "[nltk_data]    |     /home/researcher/nltk_data...\n",
      "[nltk_data]    |   Package indian is already up-to-date!\n",
      "[nltk_data]    | Downloading package jeita to\n",
      "[nltk_data]    |     /home/researcher/nltk_data...\n",
      "[nltk_data]    |   Package jeita is already up-to-date!\n",
      "[nltk_data]    | Downloading package kimmo to\n",
      "[nltk_data]    |     /home/researcher/nltk_data...\n",
      "[nltk_data]    |   Package kimmo is already up-to-date!\n",
      "[nltk_data]    | Downloading package knbc to\n",
      "[nltk_data]    |     /home/researcher/nltk_data...\n",
      "[nltk_data]    |   Package knbc is already up-to-date!\n",
      "[nltk_data]    | Downloading package lin_thesaurus to\n",
      "[nltk_data]    |     /home/researcher/nltk_data...\n",
      "[nltk_data]    |   Package lin_thesaurus is already up-to-date!\n",
      "[nltk_data]    | Downloading package mac_morpho to\n",
      "[nltk_data]    |     /home/researcher/nltk_data...\n",
      "[nltk_data]    |   Package mac_morpho is already up-to-date!\n",
      "[nltk_data]    | Downloading package machado to\n",
      "[nltk_data]    |     /home/researcher/nltk_data...\n",
      "[nltk_data]    |   Package machado is already up-to-date!\n",
      "[nltk_data]    | Downloading package masc_tagged to\n",
      "[nltk_data]    |     /home/researcher/nltk_data...\n",
      "[nltk_data]    |   Package masc_tagged is already up-to-date!\n",
      "[nltk_data]    | Downloading package moses_sample to\n",
      "[nltk_data]    |     /home/researcher/nltk_data...\n",
      "[nltk_data]    |   Package moses_sample is already up-to-date!\n",
      "[nltk_data]    | Downloading package movie_reviews to\n",
      "[nltk_data]    |     /home/researcher/nltk_data...\n",
      "[nltk_data]    |   Package movie_reviews is already up-to-date!\n",
      "[nltk_data]    | Downloading package names to\n",
      "[nltk_data]    |     /home/researcher/nltk_data...\n",
      "[nltk_data]    |   Package names is already up-to-date!\n",
      "[nltk_data]    | Downloading package nombank.1.0 to\n",
      "[nltk_data]    |     /home/researcher/nltk_data...\n",
      "[nltk_data]    |   Package nombank.1.0 is already up-to-date!\n",
      "[nltk_data]    | Downloading package nps_chat to\n",
      "[nltk_data]    |     /home/researcher/nltk_data...\n",
      "[nltk_data]    |   Package nps_chat is already up-to-date!\n",
      "[nltk_data]    | Downloading package oanc_masc to\n",
      "[nltk_data]    |     /home/researcher/nltk_data...\n",
      "[nltk_data]    |   Package oanc_masc is already up-to-date!\n",
      "[nltk_data]    | Downloading package omw to\n",
      "[nltk_data]    |     /home/researcher/nltk_data...\n",
      "[nltk_data]    |   Unzipping corpora/omw.zip.\n",
      "[nltk_data]    | Downloading package opinion_lexicon to\n",
      "[nltk_data]    |     /home/researcher/nltk_data...\n",
      "[nltk_data]    |   Package opinion_lexicon is already up-to-date!\n",
      "[nltk_data]    | Downloading package paradigms to\n",
      "[nltk_data]    |     /home/researcher/nltk_data...\n",
      "[nltk_data]    |   Package paradigms is already up-to-date!\n",
      "[nltk_data]    | Downloading package pil to\n",
      "[nltk_data]    |     /home/researcher/nltk_data...\n",
      "[nltk_data]    |   Package pil is already up-to-date!\n",
      "[nltk_data]    | Downloading package pl196x to\n",
      "[nltk_data]    |     /home/researcher/nltk_data...\n",
      "[nltk_data]    |   Package pl196x is already up-to-date!\n",
      "[nltk_data]    | Downloading package ppattach to\n",
      "[nltk_data]    |     /home/researcher/nltk_data...\n",
      "[nltk_data]    |   Package ppattach is already up-to-date!\n",
      "[nltk_data]    | Downloading package problem_reports to\n",
      "[nltk_data]    |     /home/researcher/nltk_data...\n",
      "[nltk_data]    |   Package problem_reports is already up-to-date!\n",
      "[nltk_data]    | Downloading package propbank to\n",
      "[nltk_data]    |     /home/researcher/nltk_data...\n",
      "[nltk_data]    |   Package propbank is already up-to-date!\n",
      "[nltk_data]    | Downloading package ptb to\n",
      "[nltk_data]    |     /home/researcher/nltk_data...\n",
      "[nltk_data]    |   Package ptb is already up-to-date!\n",
      "[nltk_data]    | Downloading package oanc_masc to\n",
      "[nltk_data]    |     /home/researcher/nltk_data...\n",
      "[nltk_data]    |   Package oanc_masc is already up-to-date!\n",
      "[nltk_data]    | Downloading package product_reviews_1 to\n",
      "[nltk_data]    |     /home/researcher/nltk_data...\n",
      "[nltk_data]    |   Package product_reviews_1 is already up-to-date!\n",
      "[nltk_data]    | Downloading package product_reviews_2 to\n",
      "[nltk_data]    |     /home/researcher/nltk_data...\n",
      "[nltk_data]    |   Package product_reviews_2 is already up-to-date!\n",
      "[nltk_data]    | Downloading package pros_cons to\n",
      "[nltk_data]    |     /home/researcher/nltk_data...\n",
      "[nltk_data]    |   Package pros_cons is already up-to-date!\n",
      "[nltk_data]    | Downloading package qc to\n",
      "[nltk_data]    |     /home/researcher/nltk_data...\n",
      "[nltk_data]    |   Package qc is already up-to-date!\n",
      "[nltk_data]    | Downloading package reuters to\n",
      "[nltk_data]    |     /home/researcher/nltk_data...\n",
      "[nltk_data]    |   Package reuters is already up-to-date!\n",
      "[nltk_data]    | Downloading package rte to\n",
      "[nltk_data]    |     /home/researcher/nltk_data...\n",
      "[nltk_data]    |   Package rte is already up-to-date!\n",
      "[nltk_data]    | Downloading package semcor to\n",
      "[nltk_data]    |     /home/researcher/nltk_data...\n",
      "[nltk_data]    |   Package semcor is already up-to-date!\n",
      "[nltk_data]    | Downloading package senseval to\n",
      "[nltk_data]    |     /home/researcher/nltk_data...\n",
      "[nltk_data]    |   Package senseval is already up-to-date!\n",
      "[nltk_data]    | Downloading package sentiwordnet to\n",
      "[nltk_data]    |     /home/researcher/nltk_data...\n",
      "[nltk_data]    |   Package sentiwordnet is already up-to-date!\n",
      "[nltk_data]    | Downloading package sentence_polarity to\n",
      "[nltk_data]    |     /home/researcher/nltk_data...\n",
      "[nltk_data]    |   Package sentence_polarity is already up-to-date!\n",
      "[nltk_data]    | Downloading package shakespeare to\n",
      "[nltk_data]    |     /home/researcher/nltk_data...\n",
      "[nltk_data]    |   Package shakespeare is already up-to-date!\n",
      "[nltk_data]    | Downloading package sinica_treebank to\n",
      "[nltk_data]    |     /home/researcher/nltk_data...\n",
      "[nltk_data]    |   Package sinica_treebank is already up-to-date!\n",
      "[nltk_data]    | Downloading package smultron to\n",
      "[nltk_data]    |     /home/researcher/nltk_data...\n",
      "[nltk_data]    |   Package smultron is already up-to-date!\n",
      "[nltk_data]    | Downloading package state_union to\n",
      "[nltk_data]    |     /home/researcher/nltk_data...\n",
      "[nltk_data]    |   Package state_union is already up-to-date!\n",
      "[nltk_data]    | Downloading package stopwords to\n",
      "[nltk_data]    |     /home/researcher/nltk_data...\n",
      "[nltk_data]    |   Package stopwords is already up-to-date!\n",
      "[nltk_data]    | Downloading package subjectivity to\n",
      "[nltk_data]    |     /home/researcher/nltk_data...\n",
      "[nltk_data]    |   Package subjectivity is already up-to-date!\n",
      "[nltk_data]    | Downloading package swadesh to\n",
      "[nltk_data]    |     /home/researcher/nltk_data...\n",
      "[nltk_data]    |   Package swadesh is already up-to-date!\n",
      "[nltk_data]    | Downloading package switchboard to\n",
      "[nltk_data]    |     /home/researcher/nltk_data...\n",
      "[nltk_data]    |   Package switchboard is already up-to-date!\n",
      "[nltk_data]    | Downloading package timit to\n",
      "[nltk_data]    |     /home/researcher/nltk_data...\n",
      "[nltk_data]    |   Package timit is already up-to-date!\n",
      "[nltk_data]    | Downloading package toolbox to\n",
      "[nltk_data]    |     /home/researcher/nltk_data...\n",
      "[nltk_data]    |   Package toolbox is already up-to-date!\n",
      "[nltk_data]    | Downloading package treebank to\n",
      "[nltk_data]    |     /home/researcher/nltk_data...\n",
      "[nltk_data]    |   Package treebank is already up-to-date!\n",
      "[nltk_data]    | Downloading package twitter_samples to\n",
      "[nltk_data]    |     /home/researcher/nltk_data...\n",
      "[nltk_data]    |   Package twitter_samples is already up-to-date!\n",
      "[nltk_data]    | Downloading package udhr to\n",
      "[nltk_data]    |     /home/researcher/nltk_data...\n",
      "[nltk_data]    |   Package udhr is already up-to-date!\n",
      "[nltk_data]    | Downloading package udhr2 to\n",
      "[nltk_data]    |     /home/researcher/nltk_data...\n",
      "[nltk_data]    |   Package udhr2 is already up-to-date!\n",
      "[nltk_data]    | Downloading package unicode_samples to\n",
      "[nltk_data]    |     /home/researcher/nltk_data...\n",
      "[nltk_data]    |   Package unicode_samples is already up-to-date!\n",
      "[nltk_data]    | Downloading package universal_treebanks_v20 to\n",
      "[nltk_data]    |     /home/researcher/nltk_data...\n",
      "[nltk_data]    |   Package universal_treebanks_v20 is already up-to-\n",
      "[nltk_data]    |       date!\n",
      "[nltk_data]    | Downloading package verbnet to\n",
      "[nltk_data]    |     /home/researcher/nltk_data...\n",
      "[nltk_data]    |   Package verbnet is already up-to-date!\n",
      "[nltk_data]    | Downloading package webtext to\n",
      "[nltk_data]    |     /home/researcher/nltk_data...\n",
      "[nltk_data]    |   Package webtext is already up-to-date!\n",
      "[nltk_data]    | Downloading package wordnet to\n",
      "[nltk_data]    |     /home/researcher/nltk_data...\n",
      "[nltk_data]    |   Unzipping corpora/wordnet.zip.\n",
      "[nltk_data]    | Downloading package wordnet_ic to\n",
      "[nltk_data]    |     /home/researcher/nltk_data...\n",
      "[nltk_data]    |   Package wordnet_ic is already up-to-date!\n",
      "[nltk_data]    | Downloading package words to\n",
      "[nltk_data]    |     /home/researcher/nltk_data...\n",
      "[nltk_data]    |   Package words is already up-to-date!\n",
      "[nltk_data]    | Downloading package ycoe to\n",
      "[nltk_data]    |     /home/researcher/nltk_data...\n",
      "[nltk_data]    |   Package ycoe is already up-to-date!\n",
      "[nltk_data]    | Downloading package rslp to\n",
      "[nltk_data]    |     /home/researcher/nltk_data...\n",
      "[nltk_data]    |   Package rslp is already up-to-date!\n",
      "[nltk_data]    | Downloading package hmm_treebank_pos_tagger to\n",
      "[nltk_data]    |     /home/researcher/nltk_data...\n",
      "[nltk_data]    |   Package hmm_treebank_pos_tagger is already up-to-\n",
      "[nltk_data]    |       date!\n",
      "[nltk_data]    | Downloading package maxent_treebank_pos_tagger to\n",
      "[nltk_data]    |     /home/researcher/nltk_data...\n",
      "[nltk_data]    |   Package maxent_treebank_pos_tagger is already up-\n",
      "[nltk_data]    |       to-date!\n",
      "[nltk_data]    | Downloading package universal_tagset to\n",
      "[nltk_data]    |     /home/researcher/nltk_data...\n",
      "[nltk_data]    |   Package universal_tagset is already up-to-date!\n",
      "[nltk_data]    | Downloading package maxent_ne_chunker to\n",
      "[nltk_data]    |     /home/researcher/nltk_data...\n",
      "[nltk_data]    |   Package maxent_ne_chunker is already up-to-date!\n",
      "[nltk_data]    | Downloading package punkt to\n",
      "[nltk_data]    |     /home/researcher/nltk_data...\n",
      "[nltk_data]    |   Package punkt is already up-to-date!\n",
      "[nltk_data]    | Downloading package book_grammars to\n",
      "[nltk_data]    |     /home/researcher/nltk_data...\n",
      "[nltk_data]    |   Package book_grammars is already up-to-date!\n",
      "[nltk_data]    | Downloading package sample_grammars to\n",
      "[nltk_data]    |     /home/researcher/nltk_data...\n",
      "[nltk_data]    |   Package sample_grammars is already up-to-date!\n",
      "[nltk_data]    | Downloading package spanish_grammars to\n",
      "[nltk_data]    |     /home/researcher/nltk_data...\n",
      "[nltk_data]    |   Package spanish_grammars is already up-to-date!\n",
      "[nltk_data]    | Downloading package basque_grammars to\n",
      "[nltk_data]    |     /home/researcher/nltk_data...\n",
      "[nltk_data]    |   Package basque_grammars is already up-to-date!\n",
      "[nltk_data]    | Downloading package large_grammars to\n",
      "[nltk_data]    |     /home/researcher/nltk_data...\n",
      "[nltk_data]    |   Package large_grammars is already up-to-date!\n",
      "[nltk_data]    | Downloading package tagsets to\n",
      "[nltk_data]    |     /home/researcher/nltk_data...\n",
      "[nltk_data]    |   Package tagsets is already up-to-date!\n",
      "[nltk_data]    | Downloading package snowball_data to\n",
      "[nltk_data]    |     /home/researcher/nltk_data...\n",
      "[nltk_data]    |   Package snowball_data is already up-to-date!\n",
      "[nltk_data]    | Downloading package bllip_wsj_no_aux to\n",
      "[nltk_data]    |     /home/researcher/nltk_data...\n",
      "[nltk_data]    |   Package bllip_wsj_no_aux is already up-to-date!\n",
      "[nltk_data]    | Downloading package word2vec_sample to\n",
      "[nltk_data]    |     /home/researcher/nltk_data...\n",
      "[nltk_data]    |   Package word2vec_sample is already up-to-date!\n",
      "[nltk_data]    | Downloading package panlex_swadesh to\n",
      "[nltk_data]    |     /home/researcher/nltk_data...\n",
      "[nltk_data]    |   Package panlex_swadesh is already up-to-date!\n",
      "[nltk_data]    | Downloading package mte_teip5 to\n",
      "[nltk_data]    |     /home/researcher/nltk_data...\n",
      "[nltk_data]    |   Package mte_teip5 is already up-to-date!\n",
      "[nltk_data]    | Downloading package averaged_perceptron_tagger to\n",
      "[nltk_data]    |     /home/researcher/nltk_data...\n",
      "[nltk_data]    |   Package averaged_perceptron_tagger is already up-\n",
      "[nltk_data]    |       to-date!\n",
      "[nltk_data]    | \n",
      "[nltk_data]  Done downloading collection all\n"
     ]
    },
    {
     "data": {
      "text/plain": [
       "True"
      ]
     },
     "execution_count": 162,
     "metadata": {},
     "output_type": "execute_result"
    }
   ],
   "source": [
    "import nltk\n",
    "nltk.download('all')"
   ]
  },
  {
   "cell_type": "code",
   "execution_count": 165,
   "metadata": {
    "collapsed": false
   },
   "outputs": [
    {
     "name": "stdout",
     "output_type": "stream",
     "text": [
      "['<', '!', '--', 'start', 'metadata', '--', '>', 'Title', ':', 'Portland', 'wool', 'sales', 'Description', ':', 'press', 'statement', 'Date', ':', '2/04/1963', 'Collection', ':', 'John', 'Malcolm', 'Fraser', ',', '2007.0023', 'Collection', 'URI', ':', 'http', ':', '//gallery.its.unimelb.edu.au/imu/imu.php', '?', 'request=load', '&', 'irn=115190', '&', 'ecatalogue=on', '&', 'view=details', 'Format', ':', 'Uncorrected', 'OCR', 'text', '<', '!', '--', 'end', 'metadata', '--', '>', 'PRESS', 'STATEMENT', 'ISSUED', 'BY', 'MALCOLM', 'FRASER', ',', 'M.P', '.', 'FOR', 'WANNON', '.', 'I', 'warmly', 'welcome', 'the', 'announcement', 'by', 'the', 'Premier', 'of', 'Victoria', 'that', 'he', 'is', 'going', 'to', 'legislate', 'to', 'settle', 'the', 'Portland', 'Wool', 'Sales', 'dispute', '.', 'The', 'field', 'of', 'negotiation', 'is', 'clearly', 'exhausted', '.', 'Everyone', 'has', 'tried', 'to']\n"
     ]
    }
   ],
   "source": [
    "from nltk import word_tokenize\n",
    "speech=open(os.path.join(corpus_path,'UDS2013680-100-full.txt'),'r').read()\n",
    "tokens=word_tokenize(speech)\n",
    "print tokens[:100]"
   ]
  },
  {
   "cell_type": "code",
   "execution_count": 166,
   "metadata": {
    "collapsed": true
   },
   "outputs": [],
   "source": [
    "sentence='they refuse to permit us the refuse permit'"
   ]
  },
  {
   "cell_type": "code",
   "execution_count": 167,
   "metadata": {
    "collapsed": true
   },
   "outputs": [],
   "source": [
    "words=word_tokenize(sentence)"
   ]
  },
  {
   "cell_type": "code",
   "execution_count": 168,
   "metadata": {
    "collapsed": false
   },
   "outputs": [
    {
     "data": {
      "text/plain": [
       "['they', 'refuse', 'to', 'permit', 'us', 'the', 'refuse', 'permit']"
      ]
     },
     "execution_count": 168,
     "metadata": {},
     "output_type": "execute_result"
    }
   ],
   "source": [
    "words\n"
   ]
  },
  {
   "cell_type": "code",
   "execution_count": 170,
   "metadata": {
    "collapsed": false
   },
   "outputs": [
    {
     "name": "stdout",
     "output_type": "stream",
     "text": [
      "[('they', u'PRON'), ('refuse', u'VERB'), ('to', u'PRT'), ('permit', u'VERB'), ('us', u'PRON'), ('the', u'DET'), ('refuse', u'NOUN'), ('permit', u'NOUN')]\n"
     ]
    }
   ],
   "source": [
    "tagged=nltk.pos_tag(words, tagset='universal') #parts of speech\n",
    "print tagged"
   ]
  },
  {
   "cell_type": "code",
   "execution_count": 171,
   "metadata": {
    "collapsed": false
   },
   "outputs": [
    {
     "data": {
      "text/plain": [
       "[(u'PRON', 2), (u'VERB', 2), (u'NOUN', 2), (u'DET', 1), (u'PRT', 1)]"
      ]
     },
     "execution_count": 171,
     "metadata": {},
     "output_type": "execute_result"
    }
   ],
   "source": [
    "tag_fd=nltk.FreqDist(tag for (word,tag) in tagged)\n",
    "tag_fd.most_common()"
   ]
  },
  {
   "cell_type": "code",
   "execution_count": 172,
   "metadata": {
    "collapsed": true
   },
   "outputs": [],
   "source": [
    "#formal english is more noun heavy "
   ]
  },
  {
   "cell_type": "code",
   "execution_count": 173,
   "metadata": {
    "collapsed": true
   },
   "outputs": [],
   "source": [
    "#whereas informal english is more verb heavy"
   ]
  },
  {
   "cell_type": "code",
   "execution_count": null,
   "metadata": {
    "collapsed": true
   },
   "outputs": [],
   "source": []
  },
  {
   "cell_type": "code",
   "execution_count": 182,
   "metadata": {
    "collapsed": false
   },
   "outputs": [
    {
     "data": {
      "text/plain": [
       "{'Collection': 'John Malcolm Fraser, 2007.0023',\n",
       " 'Collection URI': 'http://gallery.its.unimelb.edu.au/imu/imu.php?request=load&irn=115190&ecatalogue=on&view=details',\n",
       " 'Date': '2/04/1963',\n",
       " 'Description': 'press statement',\n",
       " 'Format': 'Uncorrected OCR text',\n",
       " 'Title': 'Portland wool sales'}"
      ]
     },
     "execution_count": 182,
     "metadata": {},
     "output_type": "execute_result"
    }
   ],
   "source": [
    "metadata"
   ]
  },
  {
   "cell_type": "code",
   "execution_count": 190,
   "metadata": {
    "collapsed": false
   },
   "outputs": [
    {
     "name": "stdout",
     "output_type": "stream",
     "text": [
      "the most commont part in speech Portland wool sales is a NOUN\n",
      "the most common  part of language in the speech titled  Portland wool sales  by  John Malcolm Fraser, 2007.0023  is: NOUN with  261  ocurrences\n"
     ]
    }
   ],
   "source": [
    "from nltk import word_tokenize\n",
    "speech=open(os.path.join(corpus_path,'UDS2013680-100-full.txt'),'r').read()\n",
    "data=speech.split('<!--end metadata-->')\n",
    "metadata={}\n",
    "metadata=parse_metadata(data[0])\n",
    "tokens=word_tokenize(speech)\n",
    "tagged=nltk.pos_tag(tokens, tagset='universal') #parts of speech\n",
    "tag_fd=nltk.FreqDist(tag for (word,tag) in tagged)\n",
    "\n",
    "#.format(title,compart)\n",
    "print 'the most commont part in speech {} is a {}'.format(metadata['Title'],tag_fd.most_common()[0][0])\n",
    "print 'the most common  part of language in the speech titled ',metadata['Title'], ' by ',metadata['Collection'], ' is:' ,tag_fd.most_common()[0][0], 'with ', tag_fd.most_common()[0][1], ' ocurrences'\n"
   ]
  },
  {
   "cell_type": "code",
   "execution_count": 195,
   "metadata": {
    "collapsed": false
   },
   "outputs": [
    {
     "name": "stdout",
     "output_type": "stream",
     "text": [
      "179\n",
      "[('be', 11), ('is', 10), ('will', 7), ('have', 7), ('has', 6), ('been', 6), ('was', 5), ('had', 4), ('did', 4), ('could', 4)]\n"
     ]
    },
    {
     "data": {
      "image/png": "[encoded data removed]",
      "text/plain": [
       "<matplotlib.figure.Figure at 0x620c450>"
      ]
     },
     "metadata": {},
     "output_type": "display_data"
    }
   ],
   "source": [
    "verblist=[]\n",
    "for (word,tag) in tagged:\n",
    "    if tag=='VERB':\n",
    "        verblist.append(word)\n",
    "print len(verblist)\n",
    "verb_fd=nltk.FreqDist(verblist)\n",
    "print verb_fd.most_common()[:10]\n",
    "verb_fd.plot(cumulative=True)"
   ]
  },
  {
   "cell_type": "code",
   "execution_count": null,
   "metadata": {
    "collapsed": true
   },
   "outputs": [],
   "source": []
  }
 ],
 "metadata": {
  "kernelspec": {
   "display_name": "Python 2",
   "language": "python",
   "name": "python2"
  },
  "language_info": {
   "codemirror_mode": {
    "name": "ipython",
    "version": 2
   },
   "file_extension": ".py",
   "mimetype": "text/x-python",
   "name": "python",
   "nbconvert_exporter": "python",
   "pygments_lexer": "ipython2",
   "version": "2.7.5"
  }
 },
 "nbformat": 4,
 "nbformat_minor": 0
}
